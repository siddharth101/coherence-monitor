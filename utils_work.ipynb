{
 "cells": [
  {
   "cell_type": "code",
   "execution_count": 16,
   "id": "26ccd182-3b00-4dc7-a595-34c1e446c3ab",
   "metadata": {},
   "outputs": [],
   "source": [
    "from gwpy.time import to_gps\n",
    "import glob\n",
    "import pandas as pd\n",
    "import os\n",
    "import numpy as np\n",
    "from utils import create_dataframe, coherence_above, combine_data_files, get_max_coherence, give_group_v2\n",
    "import plotly.express as px\n",
    "import plotly\n"
   ]
  },
  {
   "cell_type": "code",
   "execution_count": 2,
   "id": "d60964a5-ea8e-4b77-b991-f194b246fa27",
   "metadata": {},
   "outputs": [],
   "source": [
    "def create_dataframe(files, threshold=0.6, frequency_threshold=200):\n",
    "    \n",
    "    coh_threshold = threshold\n",
    "    freq_threshold = frequency_threshold\n",
    "    \n",
    "    df_list = []\n",
    "    for file in files:\n",
    "            df = pd.read_csv(file, header=None, names=['frequency', 'coherence'])\n",
    "            df = df[(df['coherence']>coh_threshold) & \n",
    "                    (df['frequency']<freq_threshold) ]# & ((df['frequency']>61) | (df['frequency']<59))]\n",
    "            if len(df)!=0:\n",
    "                chan_name = file.split('/')[-1].split('.csv')[0]\n",
    "                df['channel'] = [chan_name]*len(df)\n",
    "                df_list.append(df)\n",
    "            \n",
    "    if df_list:\n",
    "        frame = pd.concat(df_list, axis=0, ignore_index=True)\n",
    "    else:\n",
    "        frame = pd.DataFrame()\n",
    "    \n",
    "    return frame\n",
    "\n",
    "def freq_masks(df):\n",
    "    freq_mask = ((df.frequency >= 59.8) & (df.frequency <= 60.2)) | ((df.frequency >= 119.8) & (df.frequency <= 120.2)) \\\n",
    "    | ((df.frequency >= 179.8) & (df.frequency <= 180.2))\n",
    "\n",
    "    return df[~freq_mask]\n",
    "\n",
    "def coherence_above(ifo, date, threshold=0.6, fhigh=200, path=None):\n",
    "    \n",
    "    gpstime = to_gps(date)\n",
    "    if path is None:\n",
    "        path = f'/home/siddharth.soni/public_html/coherence_monitor/{ifo}/{date}/{gpstime}/data/'\n",
    "    else:\n",
    "        path = path\n",
    "    times = [os.path.join(path, i, '') for i in os.listdir(path)]\n",
    "    \n",
    "    if not times:\n",
    "        print(\"No data found for this date\")\n",
    "        \n",
    "    dflist = {}\n",
    "    for time in times:\n",
    "        gpstime_ = time.split('/')[-2]\n",
    "        #print(gpstime_)\n",
    "        print(f\"Running for {time}\")\n",
    "        files = glob.glob(time + '*.csv')\n",
    "        df = create_dataframe(files, threshold=threshold, frequency_threshold=fhigh)\n",
    "        df = freq_masks(df)\n",
    "        df['time'] = gpstime_\n",
    "        df.reset_index(drop=True, inplace=True)\n",
    "        \n",
    "        #print(len(df))\n",
    "        \n",
    "        if len(df)!=0:\n",
    "            maxpath = path.replace('data/','')\n",
    "            path_ = os.path.join(maxpath, 'max_coherence','')\n",
    "            os.makedirs(path_, exist_ok=True)\n",
    "                #print(path_)\n",
    "            df.to_csv(path_ + f'coherence_above_{gpstime_}.csv', index=None)\n",
    "            dflist[gpstime_] = df\n",
    "        \n",
    "    return dflist"
   ]
  },
  {
   "cell_type": "code",
   "execution_count": 17,
   "id": "299b1e1c-ef60-4ca4-952d-e68e6ca7af9a",
   "metadata": {},
   "outputs": [
    {
     "name": "stdout",
     "output_type": "stream",
     "text": [
      "1415351118\n",
      "Running for /home/siddharth.soni/public_html/coherence_monitor/L1/2024-11-11/1415318418/data/1415351118/\n",
      "100\n",
      "1415369118\n",
      "Running for /home/siddharth.soni/public_html/coherence_monitor/L1/2024-11-11/1415318418/data/1415369118/\n",
      "74\n",
      "1415330827\n",
      "Running for /home/siddharth.soni/public_html/coherence_monitor/L1/2024-11-11/1415318418/data/1415330827/\n",
      "85\n",
      "1415327227\n",
      "Running for /home/siddharth.soni/public_html/coherence_monitor/L1/2024-11-11/1415318418/data/1415327227/\n",
      "89\n",
      "1415365518\n",
      "Running for /home/siddharth.soni/public_html/coherence_monitor/L1/2024-11-11/1415318418/data/1415365518/\n",
      "98\n",
      "1415361918\n",
      "Running for /home/siddharth.soni/public_html/coherence_monitor/L1/2024-11-11/1415318418/data/1415361918/\n",
      "105\n",
      "1415400634\n",
      "Running for /home/siddharth.soni/public_html/coherence_monitor/L1/2024-11-11/1415318418/data/1415400634/\n",
      "91\n",
      "1415358318\n",
      "Running for /home/siddharth.soni/public_html/coherence_monitor/L1/2024-11-11/1415318418/data/1415358318/\n",
      "105\n",
      "1415380301\n",
      "Running for /home/siddharth.soni/public_html/coherence_monitor/L1/2024-11-11/1415318418/data/1415380301/\n",
      "99\n",
      "1415338027\n",
      "Running for /home/siddharth.soni/public_html/coherence_monitor/L1/2024-11-11/1415318418/data/1415338027/\n",
      "101\n",
      "1415384098\n",
      "Running for /home/siddharth.soni/public_html/coherence_monitor/L1/2024-11-11/1415318418/data/1415384098/\n",
      "83\n",
      "1415323627\n",
      "Running for /home/siddharth.soni/public_html/coherence_monitor/L1/2024-11-11/1415318418/data/1415323627/\n",
      "70\n",
      "1415319831\n",
      "Running for /home/siddharth.soni/public_html/coherence_monitor/L1/2024-11-11/1415318418/data/1415319831/\n",
      "56\n",
      "1415334427\n",
      "Running for /home/siddharth.soni/public_html/coherence_monitor/L1/2024-11-11/1415318418/data/1415334427/\n",
      "81\n",
      "1415341627\n",
      "Running for /home/siddharth.soni/public_html/coherence_monitor/L1/2024-11-11/1415318418/data/1415341627/\n",
      "114\n",
      "1415397034\n",
      "Running for /home/siddharth.soni/public_html/coherence_monitor/L1/2024-11-11/1415318418/data/1415397034/\n",
      "77\n",
      "1415354718\n",
      "Running for /home/siddharth.soni/public_html/coherence_monitor/L1/2024-11-11/1415318418/data/1415354718/\n",
      "140\n",
      "1415347518\n",
      "Running for /home/siddharth.soni/public_html/coherence_monitor/L1/2024-11-11/1415318418/data/1415347518/\n",
      "90\n"
     ]
    }
   ],
   "source": [
    "cohL1_nov11 = coherence_above(ifo='L1', date='2024-11-11', threshold=0.7)"
   ]
  },
  {
   "cell_type": "code",
   "execution_count": 18,
   "id": "beef1f67-4798-4bd8-a1d8-421a9f04994d",
   "metadata": {},
   "outputs": [
    {
     "data": {
      "text/html": [
       "<div>\n",
       "<style scoped>\n",
       "    .dataframe tbody tr th:only-of-type {\n",
       "        vertical-align: middle;\n",
       "    }\n",
       "\n",
       "    .dataframe tbody tr th {\n",
       "        vertical-align: top;\n",
       "    }\n",
       "\n",
       "    .dataframe thead th {\n",
       "        text-align: right;\n",
       "    }\n",
       "</style>\n",
       "<table border=\"1\" class=\"dataframe\">\n",
       "  <thead>\n",
       "    <tr style=\"text-align: right;\">\n",
       "      <th></th>\n",
       "      <th>frequency</th>\n",
       "      <th>coherence</th>\n",
       "      <th>channel</th>\n",
       "      <th>time</th>\n",
       "    </tr>\n",
       "  </thead>\n",
       "  <tbody>\n",
       "    <tr>\n",
       "      <th>0</th>\n",
       "      <td>6.8</td>\n",
       "      <td>0.703852</td>\n",
       "      <td>L1:ASC-Y_TR_B_YAW_OUT_DQ</td>\n",
       "      <td>1415351118</td>\n",
       "    </tr>\n",
       "    <tr>\n",
       "      <th>1</th>\n",
       "      <td>3.3</td>\n",
       "      <td>0.748874</td>\n",
       "      <td>L1:SUS-SR2_M2_WIT_P_DQ</td>\n",
       "      <td>1415351118</td>\n",
       "    </tr>\n",
       "    <tr>\n",
       "      <th>2</th>\n",
       "      <td>6.8</td>\n",
       "      <td>0.733718</td>\n",
       "      <td>L1:ASC-REFL_B_RF9_I_YAW_OUT_DQ</td>\n",
       "      <td>1415351118</td>\n",
       "    </tr>\n",
       "    <tr>\n",
       "      <th>3</th>\n",
       "      <td>6.8</td>\n",
       "      <td>0.729661</td>\n",
       "      <td>L1:ASC-REFL_B_RF45_Q_YAW_OUT_DQ</td>\n",
       "      <td>1415351118</td>\n",
       "    </tr>\n",
       "    <tr>\n",
       "      <th>4</th>\n",
       "      <td>3.3</td>\n",
       "      <td>0.703476</td>\n",
       "      <td>L1:SUS-SR2_M3_WIT_P_DQ</td>\n",
       "      <td>1415351118</td>\n",
       "    </tr>\n",
       "    <tr>\n",
       "      <th>...</th>\n",
       "      <td>...</td>\n",
       "      <td>...</td>\n",
       "      <td>...</td>\n",
       "      <td>...</td>\n",
       "    </tr>\n",
       "    <tr>\n",
       "      <th>95</th>\n",
       "      <td>6.8</td>\n",
       "      <td>0.736117</td>\n",
       "      <td>L1:ASC-REFL_A_DC_YAW_OUT_DQ</td>\n",
       "      <td>1415351118</td>\n",
       "    </tr>\n",
       "    <tr>\n",
       "      <th>96</th>\n",
       "      <td>3.3</td>\n",
       "      <td>0.819825</td>\n",
       "      <td>L1:SUS-ITMY_L2_WIT_L_DQ</td>\n",
       "      <td>1415351118</td>\n",
       "    </tr>\n",
       "    <tr>\n",
       "      <th>97</th>\n",
       "      <td>6.8</td>\n",
       "      <td>0.715575</td>\n",
       "      <td>L1:ASC-CHARD_Y_B_OUT_DQ</td>\n",
       "      <td>1415351118</td>\n",
       "    </tr>\n",
       "    <tr>\n",
       "      <th>98</th>\n",
       "      <td>6.8</td>\n",
       "      <td>0.732521</td>\n",
       "      <td>L1:ASC-REFL_B_RF45_I_YAW_OUT_DQ</td>\n",
       "      <td>1415351118</td>\n",
       "    </tr>\n",
       "    <tr>\n",
       "      <th>99</th>\n",
       "      <td>6.8</td>\n",
       "      <td>0.729501</td>\n",
       "      <td>L1:ASC-REFL_B_RF9_Q_YAW_OUT_DQ</td>\n",
       "      <td>1415351118</td>\n",
       "    </tr>\n",
       "  </tbody>\n",
       "</table>\n",
       "<p>100 rows × 4 columns</p>\n",
       "</div>"
      ],
      "text/plain": [
       "    frequency  coherence                          channel        time\n",
       "0         6.8   0.703852         L1:ASC-Y_TR_B_YAW_OUT_DQ  1415351118\n",
       "1         3.3   0.748874           L1:SUS-SR2_M2_WIT_P_DQ  1415351118\n",
       "2         6.8   0.733718   L1:ASC-REFL_B_RF9_I_YAW_OUT_DQ  1415351118\n",
       "3         6.8   0.729661  L1:ASC-REFL_B_RF45_Q_YAW_OUT_DQ  1415351118\n",
       "4         3.3   0.703476           L1:SUS-SR2_M3_WIT_P_DQ  1415351118\n",
       "..        ...        ...                              ...         ...\n",
       "95        6.8   0.736117      L1:ASC-REFL_A_DC_YAW_OUT_DQ  1415351118\n",
       "96        3.3   0.819825          L1:SUS-ITMY_L2_WIT_L_DQ  1415351118\n",
       "97        6.8   0.715575          L1:ASC-CHARD_Y_B_OUT_DQ  1415351118\n",
       "98        6.8   0.732521  L1:ASC-REFL_B_RF45_I_YAW_OUT_DQ  1415351118\n",
       "99        6.8   0.729501   L1:ASC-REFL_B_RF9_Q_YAW_OUT_DQ  1415351118\n",
       "\n",
       "[100 rows x 4 columns]"
      ]
     },
     "execution_count": 18,
     "metadata": {},
     "output_type": "execute_result"
    }
   ],
   "source": [
    "cohL1_nov11['1415351118']"
   ]
  },
  {
   "cell_type": "code",
   "execution_count": 11,
   "id": "cc1a1837-c0cf-409a-8516-107623a9335e",
   "metadata": {},
   "outputs": [
    {
     "name": "stdout",
     "output_type": "stream",
     "text": [
      "1415997186\n",
      "Running for /home/siddharth.soni/public_html/coherence_monitor/L1/2024-11-18/1415923218/data/1415997186/\n",
      "191\n",
      "1415930718\n",
      "Running for /home/siddharth.soni/public_html/coherence_monitor/L1/2024-11-18/1415923218/data/1415930718/\n",
      "179\n",
      "1415923518\n",
      "Running for /home/siddharth.soni/public_html/coherence_monitor/L1/2024-11-18/1415923218/data/1415923518/\n",
      "212\n",
      "1415963118\n",
      "Running for /home/siddharth.soni/public_html/coherence_monitor/L1/2024-11-18/1415923218/data/1415963118/\n",
      "179\n",
      "1415970318\n",
      "Running for /home/siddharth.soni/public_html/coherence_monitor/L1/2024-11-18/1415923218/data/1415970318/\n",
      "201\n",
      "1415973918\n",
      "Running for /home/siddharth.soni/public_html/coherence_monitor/L1/2024-11-18/1415923218/data/1415973918/\n",
      "190\n",
      "1415941518\n",
      "Running for /home/siddharth.soni/public_html/coherence_monitor/L1/2024-11-18/1415923218/data/1415941518/\n",
      "191\n",
      "1416004386\n",
      "Running for /home/siddharth.soni/public_html/coherence_monitor/L1/2024-11-18/1415923218/data/1416004386/\n",
      "202\n",
      "1415934318\n",
      "Running for /home/siddharth.soni/public_html/coherence_monitor/L1/2024-11-18/1415923218/data/1415934318/\n",
      "193\n",
      "1415993586\n",
      "Running for /home/siddharth.soni/public_html/coherence_monitor/L1/2024-11-18/1415923218/data/1415993586/\n",
      "200\n",
      "1415927118\n",
      "Running for /home/siddharth.soni/public_html/coherence_monitor/L1/2024-11-18/1415923218/data/1415927118/\n",
      "201\n",
      "1415952318\n",
      "Running for /home/siddharth.soni/public_html/coherence_monitor/L1/2024-11-18/1415923218/data/1415952318/\n",
      "195\n",
      "1415937918\n",
      "Running for /home/siddharth.soni/public_html/coherence_monitor/L1/2024-11-18/1415923218/data/1415937918/\n",
      "188\n",
      "1415955918\n",
      "Running for /home/siddharth.soni/public_html/coherence_monitor/L1/2024-11-18/1415923218/data/1415955918/\n",
      "191\n",
      "1415959518\n",
      "Running for /home/siddharth.soni/public_html/coherence_monitor/L1/2024-11-18/1415923218/data/1415959518/\n",
      "193\n",
      "1415945118\n",
      "Running for /home/siddharth.soni/public_html/coherence_monitor/L1/2024-11-18/1415923218/data/1415945118/\n",
      "210\n",
      "1415966718\n",
      "Running for /home/siddharth.soni/public_html/coherence_monitor/L1/2024-11-18/1415923218/data/1415966718/\n",
      "192\n",
      "1416000786\n",
      "Running for /home/siddharth.soni/public_html/coherence_monitor/L1/2024-11-18/1415923218/data/1416000786/\n",
      "184\n"
     ]
    }
   ],
   "source": [
    "cohL1_nov18 = coherence_above(ifo='L1', date='2024-11-18', threshold=0.6)"
   ]
  },
  {
   "cell_type": "code",
   "execution_count": 1,
   "id": "20d9e88b-1989-40a9-8016-cd3dc335206c",
   "metadata": {},
   "outputs": [
    {
     "name": "stderr",
     "output_type": "stream",
     "text": [
      "/home/siddharth.soni/.local/lib/python3.9/site-packages/gwpy/time/__init__.py:36: UserWarning: Wswiglal-redir-stdio:\n",
      "\n",
      "SWIGLAL standard output/error redirection is enabled in IPython.\n",
      "This may lead to performance penalties. To disable locally, use:\n",
      "\n",
      "with lal.no_swig_redirect_standard_output_error():\n",
      "    ...\n",
      "\n",
      "To disable globally, use:\n",
      "\n",
      "lal.swig_redirect_standard_output_error(False)\n",
      "\n",
      "Note however that this will likely lead to error messages from\n",
      "LAL functions being either misdirected or lost when called from\n",
      "Jupyter notebooks.\n",
      "\n",
      "To suppress this warning, use:\n",
      "\n",
      "import warnings\n",
      "warnings.filterwarnings(\"ignore\", \"Wswiglal-redir-stdio\")\n",
      "import lal\n",
      "\n",
      "  from lal import LIGOTimeGPS\n",
      "/home/siddharth.soni/.local/lib/python3.9/site-packages/pandas/core/computation/expressions.py:21: UserWarning: Pandas requires version '2.8.4' or newer of 'numexpr' (version '2.7.3' currently installed).\n",
      "  from pandas.core.computation.check import NUMEXPR_INSTALLED\n"
     ]
    }
   ],
   "source": [
    "from utils import coherence_above"
   ]
  },
  {
   "cell_type": "code",
   "execution_count": 19,
   "id": "def14f06-8e35-4918-a92f-99d88f80ecf5",
   "metadata": {},
   "outputs": [],
   "source": [
    "#coherence_above(ifo='H1', date='2024-10-18')"
   ]
  },
  {
   "cell_type": "code",
   "execution_count": 20,
   "id": "ace82cd4-d776-410d-ba8f-8f18f347db47",
   "metadata": {},
   "outputs": [],
   "source": [
    "#coherence_above(ifo='H1', date='2024-10-30')"
   ]
  },
  {
   "cell_type": "code",
   "execution_count": 21,
   "id": "69b97fe2-171e-4cb8-9035-df8ab3666917",
   "metadata": {},
   "outputs": [],
   "source": [
    "#coherence_above(ifo='H1', date='2024-10-31')"
   ]
  },
  {
   "cell_type": "code",
   "execution_count": 22,
   "id": "da9f6c92-d72a-409c-aa4c-50555ef90d22",
   "metadata": {},
   "outputs": [],
   "source": [
    "#coherence_above(ifo='L1', date='2024-10-30')"
   ]
  },
  {
   "cell_type": "code",
   "execution_count": 23,
   "id": "b4c22783-2b2f-4f9d-8bfc-8f00e8232e3a",
   "metadata": {},
   "outputs": [],
   "source": [
    "#coherence_above(ifo='L1', date='2024-10-31')"
   ]
  },
  {
   "cell_type": "code",
   "execution_count": 7,
   "id": "e52cc11e-f65a-4957-a607-ea3e0c6d700f",
   "metadata": {},
   "outputs": [],
   "source": [
    "import matplotlib.pyplot as plt"
   ]
  },
  {
   "cell_type": "code",
   "execution_count": 33,
   "id": "d83cd1c9-5517-4160-a148-55901e5c869f",
   "metadata": {},
   "outputs": [],
   "source": [
    "from utils import combine_data_files, get_max_coherence\n",
    "\n",
    "pathNov11_a = '/home/siddharth.soni/public_html/coherence_monitor/L1/2024-11-11/1415318418/data/1415319831/'\n",
    "frame_1415319831 = combine_data_files(path=pathNov11_a)"
   ]
  },
  {
   "cell_type": "code",
   "execution_count": 34,
   "id": "9cc6276d-732c-4e6c-857c-463cbb2209ac",
   "metadata": {},
   "outputs": [],
   "source": [
    "maxcoh_Nov11 = get_max_coherence(dataframe=frame_1415319831, min_freq=0.0, max_freq=100.0)"
   ]
  },
  {
   "cell_type": "code",
   "execution_count": 35,
   "id": "a0c20b0a-34f4-4cf7-9c28-7dc228aee1fa",
   "metadata": {},
   "outputs": [
    {
     "data": {
      "text/html": [
       "<div>\n",
       "<style scoped>\n",
       "    .dataframe tbody tr th:only-of-type {\n",
       "        vertical-align: middle;\n",
       "    }\n",
       "\n",
       "    .dataframe tbody tr th {\n",
       "        vertical-align: top;\n",
       "    }\n",
       "\n",
       "    .dataframe thead th {\n",
       "        text-align: right;\n",
       "    }\n",
       "</style>\n",
       "<table border=\"1\" class=\"dataframe\">\n",
       "  <thead>\n",
       "    <tr style=\"text-align: right;\">\n",
       "      <th></th>\n",
       "      <th>freq</th>\n",
       "      <th>value</th>\n",
       "      <th>channel</th>\n",
       "    </tr>\n",
       "  </thead>\n",
       "  <tbody>\n",
       "    <tr>\n",
       "      <th>0</th>\n",
       "      <td>2.8</td>\n",
       "      <td>0.13</td>\n",
       "      <td>L1:SUS-ETMY_L1_WIT_P_DQ</td>\n",
       "    </tr>\n",
       "    <tr>\n",
       "      <th>1</th>\n",
       "      <td>2.9</td>\n",
       "      <td>0.46</td>\n",
       "      <td>L1:SUS-ETMY_L1_WIT_P_DQ</td>\n",
       "    </tr>\n",
       "    <tr>\n",
       "      <th>2</th>\n",
       "      <td>3.0</td>\n",
       "      <td>0.44</td>\n",
       "      <td>L1:SUS-ETMX_L2_WIT_L_DQ</td>\n",
       "    </tr>\n",
       "    <tr>\n",
       "      <th>3</th>\n",
       "      <td>3.1</td>\n",
       "      <td>0.57</td>\n",
       "      <td>L1:SUS-ETMX_M0_DAMP_L_IN1_DQ</td>\n",
       "    </tr>\n",
       "    <tr>\n",
       "      <th>4</th>\n",
       "      <td>3.2</td>\n",
       "      <td>0.68</td>\n",
       "      <td>L1:LSC-MICH_OUT_DQ</td>\n",
       "    </tr>\n",
       "    <tr>\n",
       "      <th>...</th>\n",
       "      <td>...</td>\n",
       "      <td>...</td>\n",
       "      <td>...</td>\n",
       "    </tr>\n",
       "    <tr>\n",
       "      <th>179</th>\n",
       "      <td>60.5</td>\n",
       "      <td>0.33</td>\n",
       "      <td>L1:ASC-DHARD_P_OUT_DQ</td>\n",
       "    </tr>\n",
       "    <tr>\n",
       "      <th>180</th>\n",
       "      <td>60.6</td>\n",
       "      <td>0.14</td>\n",
       "      <td>L1:ASC-DHARD_P_OUT_DQ</td>\n",
       "    </tr>\n",
       "    <tr>\n",
       "      <th>181</th>\n",
       "      <td>75.9</td>\n",
       "      <td>0.12</td>\n",
       "      <td>L1:SUS-FC2_M1_DAMP_T_IN1_DQ</td>\n",
       "    </tr>\n",
       "    <tr>\n",
       "      <th>182</th>\n",
       "      <td>76.0</td>\n",
       "      <td>0.62</td>\n",
       "      <td>L1:SUS-FC2_M1_DAMP_T_IN1_DQ</td>\n",
       "    </tr>\n",
       "    <tr>\n",
       "      <th>183</th>\n",
       "      <td>76.1</td>\n",
       "      <td>0.62</td>\n",
       "      <td>L1:SUS-FC2_M1_DAMP_V_IN1_DQ</td>\n",
       "    </tr>\n",
       "  </tbody>\n",
       "</table>\n",
       "<p>184 rows × 3 columns</p>\n",
       "</div>"
      ],
      "text/plain": [
       "     freq value                       channel\n",
       "0     2.8  0.13       L1:SUS-ETMY_L1_WIT_P_DQ\n",
       "1     2.9  0.46       L1:SUS-ETMY_L1_WIT_P_DQ\n",
       "2     3.0  0.44       L1:SUS-ETMX_L2_WIT_L_DQ\n",
       "3     3.1  0.57  L1:SUS-ETMX_M0_DAMP_L_IN1_DQ\n",
       "4     3.2  0.68            L1:LSC-MICH_OUT_DQ\n",
       "..    ...   ...                           ...\n",
       "179  60.5  0.33         L1:ASC-DHARD_P_OUT_DQ\n",
       "180  60.6  0.14         L1:ASC-DHARD_P_OUT_DQ\n",
       "181  75.9  0.12   L1:SUS-FC2_M1_DAMP_T_IN1_DQ\n",
       "182  76.0  0.62   L1:SUS-FC2_M1_DAMP_T_IN1_DQ\n",
       "183  76.1  0.62   L1:SUS-FC2_M1_DAMP_V_IN1_DQ\n",
       "\n",
       "[184 rows x 3 columns]"
      ]
     },
     "execution_count": 35,
     "metadata": {},
     "output_type": "execute_result"
    }
   ],
   "source": [
    "maxcoh_Nov11"
   ]
  },
  {
   "cell_type": "code",
   "execution_count": 32,
   "id": "200415d6-e818-4947-96f3-d35d54360ab1",
   "metadata": {},
   "outputs": [
    {
     "data": {
      "text/html": [
       "<div>\n",
       "<style scoped>\n",
       "    .dataframe tbody tr th:only-of-type {\n",
       "        vertical-align: middle;\n",
       "    }\n",
       "\n",
       "    .dataframe tbody tr th {\n",
       "        vertical-align: top;\n",
       "    }\n",
       "\n",
       "    .dataframe thead th {\n",
       "        text-align: right;\n",
       "    }\n",
       "</style>\n",
       "<table border=\"1\" class=\"dataframe\">\n",
       "  <thead>\n",
       "    <tr style=\"text-align: right;\">\n",
       "      <th></th>\n",
       "      <th>freq</th>\n",
       "      <th>value</th>\n",
       "      <th>channel</th>\n",
       "    </tr>\n",
       "  </thead>\n",
       "  <tbody>\n",
       "    <tr>\n",
       "      <th>4310</th>\n",
       "      <td>2.8</td>\n",
       "      <td>0.13</td>\n",
       "      <td>L1:SUS-ETMY_L1_WIT_P_DQ</td>\n",
       "    </tr>\n",
       "    <tr>\n",
       "      <th>124593</th>\n",
       "      <td>2.8</td>\n",
       "      <td>0.13</td>\n",
       "      <td>L1:SUS-ETMX_L2_WIT_L_DQ</td>\n",
       "    </tr>\n",
       "    <tr>\n",
       "      <th>268371</th>\n",
       "      <td>2.8</td>\n",
       "      <td>0.13</td>\n",
       "      <td>L1:SUS-ETMX_M0_DAMP_L_IN1_DQ</td>\n",
       "    </tr>\n",
       "    <tr>\n",
       "      <th>136630</th>\n",
       "      <td>2.8</td>\n",
       "      <td>0.11</td>\n",
       "      <td>L1:SUS-ETMY_L1_WIT_L_DQ</td>\n",
       "    </tr>\n",
       "    <tr>\n",
       "      <th>137811</th>\n",
       "      <td>2.8</td>\n",
       "      <td>0.11</td>\n",
       "      <td>L1:SUS-ETMY_M0_DAMP_L_IN1_DQ</td>\n",
       "    </tr>\n",
       "    <tr>\n",
       "      <th>137690</th>\n",
       "      <td>2.8</td>\n",
       "      <td>0.10</td>\n",
       "      <td>L1:SQZ-OMC_TRANS_RF3_Q_NORM_DQ</td>\n",
       "    </tr>\n",
       "    <tr>\n",
       "      <th>268457</th>\n",
       "      <td>2.8</td>\n",
       "      <td>0.10</td>\n",
       "      <td>L1:SUS-SR3_M1_DAMP_L_IN1_DQ</td>\n",
       "    </tr>\n",
       "  </tbody>\n",
       "</table>\n",
       "</div>"
      ],
      "text/plain": [
       "        freq  value                         channel\n",
       "4310     2.8   0.13         L1:SUS-ETMY_L1_WIT_P_DQ\n",
       "124593   2.8   0.13         L1:SUS-ETMX_L2_WIT_L_DQ\n",
       "268371   2.8   0.13    L1:SUS-ETMX_M0_DAMP_L_IN1_DQ\n",
       "136630   2.8   0.11         L1:SUS-ETMY_L1_WIT_L_DQ\n",
       "137811   2.8   0.11    L1:SUS-ETMY_M0_DAMP_L_IN1_DQ\n",
       "137690   2.8   0.10  L1:SQZ-OMC_TRANS_RF3_Q_NORM_DQ\n",
       "268457   2.8   0.10     L1:SUS-SR3_M1_DAMP_L_IN1_DQ"
      ]
     },
     "execution_count": 32,
     "metadata": {},
     "output_type": "execute_result"
    }
   ],
   "source": [
    "files_1415319831[files_1415319831.freq==2.8].sort_values(by='value', ascending=False)"
   ]
  },
  {
   "cell_type": "code",
   "execution_count": null,
   "id": "d9bcc50c-e7d1-461f-84a5-b17081f6d7e8",
   "metadata": {},
   "outputs": [],
   "source": [
    "GWDATAFIND_SERVER = 'datafind.ldas.cit:80'"
   ]
  },
  {
   "cell_type": "code",
   "execution_count": 3,
   "id": "72e1dbb1-0964-48db-a19a-5f3b80b637a5",
   "metadata": {},
   "outputs": [],
   "source": [
    "os.environ['GWDATAFIND_SERVER'] = 'datafind.ldas.cit:80'"
   ]
  },
  {
   "cell_type": "code",
   "execution_count": 4,
   "id": "25b9175f-8ce0-4258-b5c0-2e9d26e2c053",
   "metadata": {},
   "outputs": [],
   "source": [
    "from utils import check_channel_coherence\n",
    "coh = check_channel_coherence(channel='L1:SUS-ETMY_L1_WIT_P_DQ', ifo='L1', t1=1415319831, t2=1415319831+200)"
   ]
  },
  {
   "cell_type": "code",
   "execution_count": 10,
   "id": "8d4b36b1-89e5-4a9c-be81-3f3c364d0a3e",
   "metadata": {},
   "outputs": [
    {
     "data": {
      "text/latex": [
       "$[0.00016030351,~0.0023252803,~0.015160833,~\\dots,~0.024127105,~0.0036402967,~0.0022793662] \\; \\mathrm{coherence}$"
      ],
      "text/plain": [
       "<FrequencySeries([0.0001603 , 0.00232528, 0.01516083, ...,\n",
       "                  0.02412711, 0.0036403 , 0.00227937]\n",
       "                 unit=Unit(\"coherence\"),\n",
       "                 f0=<Quantity 0. Hz>,\n",
       "                 df=<Quantity 0.1 Hz>,\n",
       "                 epoch=<Time object: scale='utc' format='gps' value=1415319831.0>,\n",
       "                 name='Coherence between L1:GDS-CALIB_STRAIN and L1:SUS-ETMY_L1_WIT_P_DQ',\n",
       "                 channel=<Channel(\"L1:GDS-CALIB_STRAIN\" [reduced], 16384.0 Hz) at 0x7f0ba57717f0>)>"
      ]
     },
     "execution_count": 10,
     "metadata": {},
     "output_type": "execute_result"
    }
   ],
   "source": [
    "coh"
   ]
  },
  {
   "cell_type": "code",
   "execution_count": 8,
   "id": "227599ef-f44d-4c22-8ebb-b1b32f868918",
   "metadata": {},
   "outputs": [
    {
     "data": {
      "image/png": "[encoded data removed]",
      "text/plain": [
       "<Plot size 640x480 with 1 Axes>"
      ]
     },
     "metadata": {},
     "output_type": "display_data"
    }
   ],
   "source": [
    "coh.plot()\n",
    "plt.show()"
   ]
  },
  {
   "cell_type": "code",
   "execution_count": 15,
   "id": "771b44cd-9c0b-41ac-af28-d21a9b6511b3",
   "metadata": {},
   "outputs": [
    {
     "name": "stdout",
     "output_type": "stream",
     "text": [
      "/home/siddharth.soni/public_html/coherence_monitor/H1/2024-10-30/1414281618/plots/1414348362/\n",
      "Got the data, now making plots\n"
     ]
    },
    {
     "name": "stderr",
     "output_type": "stream",
     "text": [
      "/cvmfs/software.igwn.org/conda/envs/igwn-py39/lib/python3.9/site-packages/plotly/offline/offline.py:557: UserWarning:\n",
      "\n",
      "Your filename `/home/siddharth.soni/public_html/coherence_monitor/H1/2024-10-30/1414281618/plots/1414348362//channels_coh_1414348362_a.png` didn't end with .html. Adding .html to the end of your file.\n",
      "\n",
      "/cvmfs/software.igwn.org/conda/envs/igwn-py39/lib/python3.9/site-packages/plotly/offline/offline.py:557: UserWarning:\n",
      "\n",
      "Your filename `/home/siddharth.soni/public_html/coherence_monitor/H1/2024-10-30/1414281618/plots/1414348362//channels_coh_1414348362_b.png` didn't end with .html. Adding .html to the end of your file.\n",
      "\n"
     ]
    },
    {
     "name": "stdout",
     "output_type": "stream",
     "text": [
      "/home/siddharth.soni/public_html/coherence_monitor/H1/2024-10-30/1414281618/plots/1414303125/\n",
      "Got the data, now making plots\n"
     ]
    },
    {
     "name": "stderr",
     "output_type": "stream",
     "text": [
      "/cvmfs/software.igwn.org/conda/envs/igwn-py39/lib/python3.9/site-packages/plotly/offline/offline.py:557: UserWarning:\n",
      "\n",
      "Your filename `/home/siddharth.soni/public_html/coherence_monitor/H1/2024-10-30/1414281618/plots/1414303125//channels_coh_1414303125_a.png` didn't end with .html. Adding .html to the end of your file.\n",
      "\n",
      "/cvmfs/software.igwn.org/conda/envs/igwn-py39/lib/python3.9/site-packages/plotly/offline/offline.py:557: UserWarning:\n",
      "\n",
      "Your filename `/home/siddharth.soni/public_html/coherence_monitor/H1/2024-10-30/1414281618/plots/1414303125//channels_coh_1414303125_b.png` didn't end with .html. Adding .html to the end of your file.\n",
      "\n"
     ]
    },
    {
     "name": "stdout",
     "output_type": "stream",
     "text": [
      "/home/siddharth.soni/public_html/coherence_monitor/H1/2024-10-30/1414281618/plots/1414288441/\n",
      "Got the data, now making plots\n"
     ]
    },
    {
     "name": "stderr",
     "output_type": "stream",
     "text": [
      "/cvmfs/software.igwn.org/conda/envs/igwn-py39/lib/python3.9/site-packages/plotly/offline/offline.py:557: UserWarning:\n",
      "\n",
      "Your filename `/home/siddharth.soni/public_html/coherence_monitor/H1/2024-10-30/1414281618/plots/1414288441//channels_coh_1414288441_a.png` didn't end with .html. Adding .html to the end of your file.\n",
      "\n",
      "/cvmfs/software.igwn.org/conda/envs/igwn-py39/lib/python3.9/site-packages/plotly/offline/offline.py:557: UserWarning:\n",
      "\n",
      "Your filename `/home/siddharth.soni/public_html/coherence_monitor/H1/2024-10-30/1414281618/plots/1414288441//channels_coh_1414288441_b.png` didn't end with .html. Adding .html to the end of your file.\n",
      "\n"
     ]
    },
    {
     "name": "stdout",
     "output_type": "stream",
     "text": [
      "/home/siddharth.soni/public_html/coherence_monitor/H1/2024-10-30/1414281618/plots/1414292041/\n",
      "Got the data, now making plots\n"
     ]
    },
    {
     "name": "stderr",
     "output_type": "stream",
     "text": [
      "/cvmfs/software.igwn.org/conda/envs/igwn-py39/lib/python3.9/site-packages/plotly/offline/offline.py:557: UserWarning:\n",
      "\n",
      "Your filename `/home/siddharth.soni/public_html/coherence_monitor/H1/2024-10-30/1414281618/plots/1414292041//channels_coh_1414292041_a.png` didn't end with .html. Adding .html to the end of your file.\n",
      "\n",
      "/cvmfs/software.igwn.org/conda/envs/igwn-py39/lib/python3.9/site-packages/plotly/offline/offline.py:557: UserWarning:\n",
      "\n",
      "Your filename `/home/siddharth.soni/public_html/coherence_monitor/H1/2024-10-30/1414281618/plots/1414292041//channels_coh_1414292041_b.png` didn't end with .html. Adding .html to the end of your file.\n",
      "\n"
     ]
    },
    {
     "name": "stdout",
     "output_type": "stream",
     "text": [
      "/home/siddharth.soni/public_html/coherence_monitor/H1/2024-10-30/1414281618/plots/1414299525/\n",
      "Got the data, now making plots\n"
     ]
    },
    {
     "name": "stderr",
     "output_type": "stream",
     "text": [
      "/cvmfs/software.igwn.org/conda/envs/igwn-py39/lib/python3.9/site-packages/plotly/offline/offline.py:557: UserWarning:\n",
      "\n",
      "Your filename `/home/siddharth.soni/public_html/coherence_monitor/H1/2024-10-30/1414281618/plots/1414299525//channels_coh_1414299525_a.png` didn't end with .html. Adding .html to the end of your file.\n",
      "\n",
      "/cvmfs/software.igwn.org/conda/envs/igwn-py39/lib/python3.9/site-packages/plotly/offline/offline.py:557: UserWarning:\n",
      "\n",
      "Your filename `/home/siddharth.soni/public_html/coherence_monitor/H1/2024-10-30/1414281618/plots/1414299525//channels_coh_1414299525_b.png` didn't end with .html. Adding .html to the end of your file.\n",
      "\n"
     ]
    },
    {
     "name": "stdout",
     "output_type": "stream",
     "text": [
      "/home/siddharth.soni/public_html/coherence_monitor/H1/2024-10-30/1414281618/plots/1414310418/\n",
      "Got the data, now making plots\n"
     ]
    },
    {
     "name": "stderr",
     "output_type": "stream",
     "text": [
      "/cvmfs/software.igwn.org/conda/envs/igwn-py39/lib/python3.9/site-packages/plotly/offline/offline.py:557: UserWarning:\n",
      "\n",
      "Your filename `/home/siddharth.soni/public_html/coherence_monitor/H1/2024-10-30/1414281618/plots/1414310418//channels_coh_1414310418_a.png` didn't end with .html. Adding .html to the end of your file.\n",
      "\n",
      "/cvmfs/software.igwn.org/conda/envs/igwn-py39/lib/python3.9/site-packages/plotly/offline/offline.py:557: UserWarning:\n",
      "\n",
      "Your filename `/home/siddharth.soni/public_html/coherence_monitor/H1/2024-10-30/1414281618/plots/1414310418//channels_coh_1414310418_b.png` didn't end with .html. Adding .html to the end of your file.\n",
      "\n"
     ]
    }
   ],
   "source": [
    "### Generating Plots for Oct 30\n",
    "from gwpy.time import to_gps\n",
    "from utils import plot_max_corr_chan\n",
    "import os\n",
    "import logging\n",
    "date='2024-10-30'\n",
    "gps_date = to_gps(date).gpsSeconds\n",
    "ifo = 'H1'\n",
    "savedir = f'/home/siddharth.soni/public_html/coherence_monitor/{ifo}/'\n",
    "savedir_path = os.path.join(savedir, date, str(gps_date), 'data', '')\n",
    "path_outdir = os.path.join(savedir, date, str(gps_date), 'plots','')\n",
    "logging.info(savedir_path)\n",
    "\n",
    "for filepath in os.listdir(savedir_path):\n",
    "    path_ = os.path.join(savedir_path, filepath, '')\n",
    "    logging.info(path_)\n",
    "    t = path_.split('/')[-2]\n",
    "    savedir_plots = os.path.join(path_outdir, t, '')\n",
    "    print(savedir_plots)\n",
    "    os.makedirs(savedir_plots, exist_ok=True)\n",
    "    plot_max_corr_chan(path=path_, ifo=ifo, fft=10, savedir=savedir_plots)"
   ]
  },
  {
   "cell_type": "code",
   "execution_count": 16,
   "id": "df555535-8998-49bb-b3ca-980a6a73b979",
   "metadata": {},
   "outputs": [],
   "source": [
    "from gwpy.time import to_gps\n",
    "from utils import plot_max_corr_chan\n",
    "import os\n",
    "import logging\n",
    "def gen_plots(date, ifo):\n",
    "    date=date\n",
    "    gps_date = to_gps(date).gpsSeconds\n",
    "    ifo = ifo\n",
    "    savedir = f'/home/siddharth.soni/public_html/coherence_monitor/{ifo}/'\n",
    "    savedir_path = os.path.join(savedir, date, str(gps_date), 'data', '')\n",
    "    path_outdir = os.path.join(savedir, date, str(gps_date), 'plots','')\n",
    "    logging.info(savedir_path)\n",
    "\n",
    "    for filepath in os.listdir(savedir_path):\n",
    "        path_ = os.path.join(savedir_path, filepath, '')\n",
    "        logging.info(path_)\n",
    "        t = path_.split('/')[-2]\n",
    "        savedir_plots = os.path.join(path_outdir, t, '')\n",
    "        print(savedir_plots)\n",
    "        os.makedirs(savedir_plots, exist_ok=True)\n",
    "        plot_max_corr_chan(path=path_, ifo=ifo, fft=10, savedir=savedir_plots)\n",
    "        \n",
    "    return"
   ]
  },
  {
   "cell_type": "code",
   "execution_count": 17,
   "id": "135a9022-987f-4525-adf0-983cae6d097b",
   "metadata": {},
   "outputs": [
    {
     "name": "stdout",
     "output_type": "stream",
     "text": [
      "/home/siddharth.soni/public_html/coherence_monitor/H1/2024-10-31/1414368018/plots/1414404018/\n",
      "Got the data, now making plots\n"
     ]
    },
    {
     "name": "stderr",
     "output_type": "stream",
     "text": [
      "/cvmfs/software.igwn.org/conda/envs/igwn-py39/lib/python3.9/site-packages/plotly/offline/offline.py:557: UserWarning:\n",
      "\n",
      "Your filename `/home/siddharth.soni/public_html/coherence_monitor/H1/2024-10-31/1414368018/plots/1414404018//channels_coh_1414404018_a.png` didn't end with .html. Adding .html to the end of your file.\n",
      "\n",
      "/cvmfs/software.igwn.org/conda/envs/igwn-py39/lib/python3.9/site-packages/plotly/offline/offline.py:557: UserWarning:\n",
      "\n",
      "Your filename `/home/siddharth.soni/public_html/coherence_monitor/H1/2024-10-31/1414368018/plots/1414404018//channels_coh_1414404018_b.png` didn't end with .html. Adding .html to the end of your file.\n",
      "\n"
     ]
    },
    {
     "name": "stdout",
     "output_type": "stream",
     "text": [
      "/home/siddharth.soni/public_html/coherence_monitor/H1/2024-10-31/1414368018/plots/1414375997/\n",
      "Got the data, now making plots\n"
     ]
    },
    {
     "name": "stderr",
     "output_type": "stream",
     "text": [
      "/cvmfs/software.igwn.org/conda/envs/igwn-py39/lib/python3.9/site-packages/plotly/offline/offline.py:557: UserWarning:\n",
      "\n",
      "Your filename `/home/siddharth.soni/public_html/coherence_monitor/H1/2024-10-31/1414368018/plots/1414375997//channels_coh_1414375997_a.png` didn't end with .html. Adding .html to the end of your file.\n",
      "\n",
      "/cvmfs/software.igwn.org/conda/envs/igwn-py39/lib/python3.9/site-packages/plotly/offline/offline.py:557: UserWarning:\n",
      "\n",
      "Your filename `/home/siddharth.soni/public_html/coherence_monitor/H1/2024-10-31/1414368018/plots/1414375997//channels_coh_1414375997_b.png` didn't end with .html. Adding .html to the end of your file.\n",
      "\n"
     ]
    },
    {
     "name": "stdout",
     "output_type": "stream",
     "text": [
      "/home/siddharth.soni/public_html/coherence_monitor/H1/2024-10-31/1414368018/plots/1414387879/\n",
      "Got the data, now making plots\n"
     ]
    },
    {
     "name": "stderr",
     "output_type": "stream",
     "text": [
      "/cvmfs/software.igwn.org/conda/envs/igwn-py39/lib/python3.9/site-packages/plotly/offline/offline.py:557: UserWarning:\n",
      "\n",
      "Your filename `/home/siddharth.soni/public_html/coherence_monitor/H1/2024-10-31/1414368018/plots/1414387879//channels_coh_1414387879_a.png` didn't end with .html. Adding .html to the end of your file.\n",
      "\n",
      "/cvmfs/software.igwn.org/conda/envs/igwn-py39/lib/python3.9/site-packages/plotly/offline/offline.py:557: UserWarning:\n",
      "\n",
      "Your filename `/home/siddharth.soni/public_html/coherence_monitor/H1/2024-10-31/1414368018/plots/1414387879//channels_coh_1414387879_b.png` didn't end with .html. Adding .html to the end of your file.\n",
      "\n"
     ]
    },
    {
     "name": "stdout",
     "output_type": "stream",
     "text": [
      "/home/siddharth.soni/public_html/coherence_monitor/H1/2024-10-31/1414368018/plots/1414400418/\n",
      "Got the data, now making plots\n"
     ]
    },
    {
     "name": "stderr",
     "output_type": "stream",
     "text": [
      "/cvmfs/software.igwn.org/conda/envs/igwn-py39/lib/python3.9/site-packages/plotly/offline/offline.py:557: UserWarning:\n",
      "\n",
      "Your filename `/home/siddharth.soni/public_html/coherence_monitor/H1/2024-10-31/1414368018/plots/1414400418//channels_coh_1414400418_a.png` didn't end with .html. Adding .html to the end of your file.\n",
      "\n",
      "/cvmfs/software.igwn.org/conda/envs/igwn-py39/lib/python3.9/site-packages/plotly/offline/offline.py:557: UserWarning:\n",
      "\n",
      "Your filename `/home/siddharth.soni/public_html/coherence_monitor/H1/2024-10-31/1414368018/plots/1414400418//channels_coh_1414400418_b.png` didn't end with .html. Adding .html to the end of your file.\n",
      "\n"
     ]
    },
    {
     "name": "stdout",
     "output_type": "stream",
     "text": [
      "/home/siddharth.soni/public_html/coherence_monitor/H1/2024-10-31/1414368018/plots/1414407618/\n",
      "Got the data, now making plots\n"
     ]
    },
    {
     "name": "stderr",
     "output_type": "stream",
     "text": [
      "/cvmfs/software.igwn.org/conda/envs/igwn-py39/lib/python3.9/site-packages/plotly/offline/offline.py:557: UserWarning:\n",
      "\n",
      "Your filename `/home/siddharth.soni/public_html/coherence_monitor/H1/2024-10-31/1414368018/plots/1414407618//channels_coh_1414407618_a.png` didn't end with .html. Adding .html to the end of your file.\n",
      "\n",
      "/cvmfs/software.igwn.org/conda/envs/igwn-py39/lib/python3.9/site-packages/plotly/offline/offline.py:557: UserWarning:\n",
      "\n",
      "Your filename `/home/siddharth.soni/public_html/coherence_monitor/H1/2024-10-31/1414368018/plots/1414407618//channels_coh_1414407618_b.png` didn't end with .html. Adding .html to the end of your file.\n",
      "\n"
     ]
    },
    {
     "name": "stdout",
     "output_type": "stream",
     "text": [
      "/home/siddharth.soni/public_html/coherence_monitor/H1/2024-10-31/1414368018/plots/1414396818/\n",
      "Got the data, now making plots\n"
     ]
    },
    {
     "name": "stderr",
     "output_type": "stream",
     "text": [
      "/cvmfs/software.igwn.org/conda/envs/igwn-py39/lib/python3.9/site-packages/plotly/offline/offline.py:557: UserWarning:\n",
      "\n",
      "Your filename `/home/siddharth.soni/public_html/coherence_monitor/H1/2024-10-31/1414368018/plots/1414396818//channels_coh_1414396818_a.png` didn't end with .html. Adding .html to the end of your file.\n",
      "\n",
      "/cvmfs/software.igwn.org/conda/envs/igwn-py39/lib/python3.9/site-packages/plotly/offline/offline.py:557: UserWarning:\n",
      "\n",
      "Your filename `/home/siddharth.soni/public_html/coherence_monitor/H1/2024-10-31/1414368018/plots/1414396818//channels_coh_1414396818_b.png` didn't end with .html. Adding .html to the end of your file.\n",
      "\n"
     ]
    }
   ],
   "source": [
    "gen_plots(date='2024-10-31', ifo='H1')"
   ]
  },
  {
   "cell_type": "code",
   "execution_count": 18,
   "id": "eb50d720-bc43-4976-86c9-8e70d69feead",
   "metadata": {},
   "outputs": [
    {
     "data": {
      "text/plain": [
       "datetime.datetime(2024, 10, 30, 5, 18, 47)"
      ]
     },
     "execution_count": 18,
     "metadata": {},
     "output_type": "execute_result"
    }
   ],
   "source": [
    "from gwpy.time import from_gps\n",
    "from_gps(1414300745.0)"
   ]
  },
  {
   "cell_type": "code",
   "execution_count": 12,
   "id": "d4520510-cf52-4777-861f-2f0ff855a04e",
   "metadata": {},
   "outputs": [],
   "source": [
    "fr = combine_data_files('data/1416200418/')"
   ]
  },
  {
   "cell_type": "code",
   "execution_count": 13,
   "id": "fbf340e5-c6e9-49c1-a6a5-3f0cff19c933",
   "metadata": {},
   "outputs": [
    {
     "data": {
      "text/html": [
       "<div>\n",
       "<style scoped>\n",
       "    .dataframe tbody tr th:only-of-type {\n",
       "        vertical-align: middle;\n",
       "    }\n",
       "\n",
       "    .dataframe tbody tr th {\n",
       "        vertical-align: top;\n",
       "    }\n",
       "\n",
       "    .dataframe thead th {\n",
       "        text-align: right;\n",
       "    }\n",
       "</style>\n",
       "<table border=\"1\" class=\"dataframe\">\n",
       "  <thead>\n",
       "    <tr style=\"text-align: right;\">\n",
       "      <th></th>\n",
       "      <th>freq</th>\n",
       "      <th>value</th>\n",
       "      <th>channel</th>\n",
       "    </tr>\n",
       "  </thead>\n",
       "  <tbody>\n",
       "    <tr>\n",
       "      <th>0</th>\n",
       "      <td>59.9</td>\n",
       "      <td>0.84</td>\n",
       "      <td>L1:ISI-HAM6_BLND_GS13RZ_IN1_DQ</td>\n",
       "    </tr>\n",
       "    <tr>\n",
       "      <th>1</th>\n",
       "      <td>60.0</td>\n",
       "      <td>0.85</td>\n",
       "      <td>L1:ISI-HAM6_BLND_GS13RZ_IN1_DQ</td>\n",
       "    </tr>\n",
       "    <tr>\n",
       "      <th>2</th>\n",
       "      <td>60.1</td>\n",
       "      <td>0.82</td>\n",
       "      <td>L1:ISI-HAM6_BLND_GS13RZ_IN1_DQ</td>\n",
       "    </tr>\n",
       "    <tr>\n",
       "      <th>3</th>\n",
       "      <td>119.9</td>\n",
       "      <td>0.38</td>\n",
       "      <td>L1:ISI-HAM6_BLND_GS13RZ_IN1_DQ</td>\n",
       "    </tr>\n",
       "    <tr>\n",
       "      <th>4</th>\n",
       "      <td>120.0</td>\n",
       "      <td>0.49</td>\n",
       "      <td>L1:ISI-HAM6_BLND_GS13RZ_IN1_DQ</td>\n",
       "    </tr>\n",
       "    <tr>\n",
       "      <th>...</th>\n",
       "      <td>...</td>\n",
       "      <td>...</td>\n",
       "      <td>...</td>\n",
       "    </tr>\n",
       "    <tr>\n",
       "      <th>410499</th>\n",
       "      <td>300.0</td>\n",
       "      <td>0.28</td>\n",
       "      <td>L1:LSC-MOD_RF45_AM_ERR_OUT_DQ</td>\n",
       "    </tr>\n",
       "    <tr>\n",
       "      <th>410500</th>\n",
       "      <td>419.8</td>\n",
       "      <td>0.12</td>\n",
       "      <td>L1:LSC-MOD_RF45_AM_ERR_OUT_DQ</td>\n",
       "    </tr>\n",
       "    <tr>\n",
       "      <th>410501</th>\n",
       "      <td>419.9</td>\n",
       "      <td>0.14</td>\n",
       "      <td>L1:LSC-MOD_RF45_AM_ERR_OUT_DQ</td>\n",
       "    </tr>\n",
       "    <tr>\n",
       "      <th>410502</th>\n",
       "      <td>659.8</td>\n",
       "      <td>0.15</td>\n",
       "      <td>L1:LSC-MOD_RF45_AM_ERR_OUT_DQ</td>\n",
       "    </tr>\n",
       "    <tr>\n",
       "      <th>410503</th>\n",
       "      <td>1000.0</td>\n",
       "      <td>0.11</td>\n",
       "      <td>L1:LSC-MOD_RF45_AM_ERR_OUT_DQ</td>\n",
       "    </tr>\n",
       "  </tbody>\n",
       "</table>\n",
       "<p>410504 rows × 3 columns</p>\n",
       "</div>"
      ],
      "text/plain": [
       "          freq  value                         channel\n",
       "0         59.9   0.84  L1:ISI-HAM6_BLND_GS13RZ_IN1_DQ\n",
       "1         60.0   0.85  L1:ISI-HAM6_BLND_GS13RZ_IN1_DQ\n",
       "2         60.1   0.82  L1:ISI-HAM6_BLND_GS13RZ_IN1_DQ\n",
       "3        119.9   0.38  L1:ISI-HAM6_BLND_GS13RZ_IN1_DQ\n",
       "4        120.0   0.49  L1:ISI-HAM6_BLND_GS13RZ_IN1_DQ\n",
       "...        ...    ...                             ...\n",
       "410499   300.0   0.28   L1:LSC-MOD_RF45_AM_ERR_OUT_DQ\n",
       "410500   419.8   0.12   L1:LSC-MOD_RF45_AM_ERR_OUT_DQ\n",
       "410501   419.9   0.14   L1:LSC-MOD_RF45_AM_ERR_OUT_DQ\n",
       "410502   659.8   0.15   L1:LSC-MOD_RF45_AM_ERR_OUT_DQ\n",
       "410503  1000.0   0.11   L1:LSC-MOD_RF45_AM_ERR_OUT_DQ\n",
       "\n",
       "[410504 rows x 3 columns]"
      ]
     },
     "execution_count": 13,
     "metadata": {},
     "output_type": "execute_result"
    }
   ],
   "source": [
    "fr"
   ]
  },
  {
   "cell_type": "code",
   "execution_count": 20,
   "id": "47a3b08c-b8d3-431f-a255-59e583d82d40",
   "metadata": {},
   "outputs": [
    {
     "ename": "NameError",
     "evalue": "name 'ifo' is not defined",
     "output_type": "error",
     "traceback": [
      "\u001b[0;31m---------------------------------------------------------------------------\u001b[0m",
      "\u001b[0;31mNameError\u001b[0m                                 Traceback (most recent call last)",
      "Cell \u001b[0;32mIn[20], line 12\u001b[0m\n\u001b[1;32m      6\u001b[0m \u001b[38;5;66;03m#plotdir = os.path.join(pathifo, date, str(gpstime), 'plots', folder,'')\u001b[39;00m\n\u001b[1;32m      7\u001b[0m \u001b[38;5;66;03m#os.makedirs(plotdir, exist_ok=True)\u001b[39;00m\n\u001b[1;32m      8\u001b[0m \u001b[38;5;66;03m#print(plotdir)\u001b[39;00m\n\u001b[1;32m      9\u001b[0m fig1 \u001b[38;5;241m=\u001b[39m px\u001b[38;5;241m.\u001b[39mscatter(vals, x\u001b[38;5;241m=\u001b[39m\u001b[38;5;124m\"\u001b[39m\u001b[38;5;124mFrequency\u001b[39m\u001b[38;5;124m\"\u001b[39m, y\u001b[38;5;241m=\u001b[39m\u001b[38;5;124m\"\u001b[39m\u001b[38;5;124mCoherence\u001b[39m\u001b[38;5;124m\"\u001b[39m, hover_data\u001b[38;5;241m=\u001b[39m[\u001b[38;5;124m'\u001b[39m\u001b[38;5;124mchannel\u001b[39m\u001b[38;5;124m'\u001b[39m], color\u001b[38;5;241m=\u001b[39m\u001b[38;5;124m\"\u001b[39m\u001b[38;5;124mgroup\u001b[39m\u001b[38;5;124m\"\u001b[39m,\n\u001b[1;32m     10\u001b[0m                   labels\u001b[38;5;241m=\u001b[39m{\u001b[38;5;124m\"\u001b[39m\u001b[38;5;124mmax_correlation\u001b[39m\u001b[38;5;124m\"\u001b[39m: \u001b[38;5;124m\"\u001b[39m\u001b[38;5;124mMax Coherence\u001b[39m\u001b[38;5;124m\"\u001b[39m, \u001b[38;5;124m\"\u001b[39m\u001b[38;5;124mfrequency\u001b[39m\u001b[38;5;124m\"\u001b[39m: \u001b[38;5;124m\"\u001b[39m\u001b[38;5;124mFrequency [Hz]\u001b[39m\u001b[38;5;124m\"\u001b[39m})\n\u001b[0;32m---> 12\u001b[0m fig1\u001b[38;5;241m.\u001b[39mupdate_layout(title\u001b[38;5;241m=\u001b[39m\u001b[38;5;28mdict\u001b[39m(text\u001b[38;5;241m=\u001b[39m\u001b[38;5;124mf\u001b[39m\u001b[38;5;124m\"\u001b[39m\u001b[38;5;132;01m{\u001b[39;00mifo\u001b[38;5;132;01m}\u001b[39;00m\u001b[38;5;124m: Highest Coherence channel at each frequency during \u001b[39m\u001b[38;5;132;01m{\u001b[39;00m\u001b[38;5;241m1416200418\u001b[39m\u001b[38;5;132;01m}\u001b[39;00m\u001b[38;5;124m -- \u001b[39m\u001b[38;5;132;01m{\u001b[39;00m\u001b[38;5;28mstr\u001b[39m(\u001b[38;5;28mint\u001b[39m(\u001b[38;5;241m1416200418\u001b[39m) \u001b[38;5;241m+\u001b[39m \u001b[38;5;241m3600\u001b[39m)\u001b[38;5;132;01m}\u001b[39;00m\u001b[38;5;124m\"\u001b[39m,\n\u001b[1;32m     13\u001b[0m                font\u001b[38;5;241m=\u001b[39m\u001b[38;5;28mdict\u001b[39m(family\u001b[38;5;241m=\u001b[39m\u001b[38;5;124m\"\u001b[39m\u001b[38;5;124mCourier New, monospace\u001b[39m\u001b[38;5;124m\"\u001b[39m, size\u001b[38;5;241m=\u001b[39m\u001b[38;5;241m22\u001b[39m, color\u001b[38;5;241m=\u001b[39m\u001b[38;5;124m\"\u001b[39m\u001b[38;5;124mRebeccaPurple\u001b[39m\u001b[38;5;124m\"\u001b[39m)))\n\u001b[1;32m     14\u001b[0m plotly\u001b[38;5;241m.\u001b[39moffline\u001b[38;5;241m.\u001b[39mplot(fig1, filename\u001b[38;5;241m=\u001b[39m\u001b[38;5;124mf\u001b[39m\u001b[38;5;124m'\u001b[39m\u001b[38;5;124mchannels_coh_\u001b[39m\u001b[38;5;132;01m{\u001b[39;00m\u001b[38;5;28mint\u001b[39m(\u001b[38;5;241m1416200418\u001b[39m)\u001b[38;5;132;01m}\u001b[39;00m\u001b[38;5;124m.png\u001b[39m\u001b[38;5;124m'\u001b[39m)\n",
      "\u001b[0;31mNameError\u001b[0m: name 'ifo' is not defined"
     ]
    }
   ],
   "source": [
    "frmax = get_max_coherence(fr, min_freq=0.0, max_freq=200.0, fft=10)\n",
    "vals = frmax\n",
    "vals['group'] = vals['channel'].apply(give_group_v2)\n",
    "vals.rename(columns={'value':'Coherence', 'freq':'Frequency'},  inplace=True)\n",
    "\n",
    "#plotdir = os.path.join(pathifo, date, str(gpstime), 'plots', folder,'')\n",
    "#os.makedirs(plotdir, exist_ok=True)\n",
    "#print(plotdir)\n",
    "fig1 = px.scatter(vals, x=\"Frequency\", y=\"Coherence\", hover_data=['channel'], color=\"group\",\n",
    "                  labels={\"max_correlation\": \"Max Coherence\", \"frequency\": \"Frequency [Hz]\"})\n",
    "\n",
    "fig1.update_layout(title=dict(text=f\"{ifo}: Highest Coherence channel at each frequency during {1416200418} -- {str(int(1416200418) + 3600)}\",\n",
    "               font=dict(family=\"Courier New, monospace\", size=22, color=\"RebeccaPurple\")))\n",
    "plotly.offline.plot(fig1, filename=f'channels_coh_{int(1416200418)}.png')"
   ]
  },
  {
   "cell_type": "code",
   "execution_count": 27,
   "id": "6945f543-8cc2-4b78-8762-6bc5c90c360e",
   "metadata": {},
   "outputs": [],
   "source": [
    "import os\n",
    "\n",
    "def get_folder_size(folder_path):\n",
    "    total_size = 0\n",
    "    # Walk through all directories and files in the given folder\n",
    "    for dirpath, dirnames, filenames in os.walk(folder_path):\n",
    "        for file in filenames:\n",
    "            file_path = os.path.join(dirpath, file)\n",
    "            # Add file size if the file exists\n",
    "            if os.path.isfile(file_path):\n",
    "                total_size += os.path.getsize(file_path)\n",
    "                \n",
    "    total_size_mb = round(total_size / (1024 * 1024))\n",
    "    return total_size_mb\n",
    "\n",
    "# Example usage\n",
    "# folder_path = \"path/to/your/folder\"  # Replace with your folder path\n",
    "# size_in_bytes = get_folder_size(folder_path)\n",
    "# print(f\"Folder size: {size_in_bytes / (1024 * 1024):.2f} MB\")\n"
   ]
  },
  {
   "cell_type": "code",
   "execution_count": 28,
   "id": "6779110b-cfdd-4560-a05b-84087454f3a2",
   "metadata": {},
   "outputs": [
    {
     "data": {
      "text/plain": [
       "216"
      ]
     },
     "execution_count": 28,
     "metadata": {},
     "output_type": "execute_result"
    }
   ],
   "source": [
    "get_folder_size('/home/siddharth.soni/public_html/coherence_monitor/L1/2024-11-24/')"
   ]
  },
  {
   "cell_type": "code",
   "execution_count": 34,
   "id": "fdf8cdb9-ae4f-4562-8d04-c5d81888fe1c",
   "metadata": {},
   "outputs": [],
   "source": [
    "dirsNovL1 = sorted(os.listdir('/home/siddharth.soni/public_html/coherence_monitor/L1/'))[26:]"
   ]
  },
  {
   "cell_type": "code",
   "execution_count": 36,
   "id": "aa946a52-4f64-4438-89e2-a995556c0606",
   "metadata": {},
   "outputs": [
    {
     "data": {
      "text/plain": [
       "'2024-11-01'"
      ]
     },
     "execution_count": 36,
     "metadata": {},
     "output_type": "execute_result"
    }
   ],
   "source": [
    "dirsNovL1[0]"
   ]
  },
  {
   "cell_type": "code",
   "execution_count": 38,
   "id": "4d837a76-5c7c-4cbf-910e-18c41859c0bd",
   "metadata": {},
   "outputs": [],
   "source": [
    "a=0\n",
    "for i in dirsNovL1:\n",
    "    a += get_folder_size(f'/home/siddharth.soni/public_html/coherence_monitor/L1/{i}/')"
   ]
  },
  {
   "cell_type": "code",
   "execution_count": 39,
   "id": "3c092011-a783-4a99-a35b-ada972092a4b",
   "metadata": {},
   "outputs": [
    {
     "data": {
      "text/plain": [
       "168.72"
      ]
     },
     "execution_count": 39,
     "metadata": {},
     "output_type": "execute_result"
    }
   ],
   "source": [
    "a/len(dirsNovL1)"
   ]
  },
  {
   "cell_type": "code",
   "execution_count": 1,
   "id": "69af725a-0ec5-499f-8837-17a034042d99",
   "metadata": {},
   "outputs": [
    {
     "name": "stderr",
     "output_type": "stream",
     "text": [
      "/home/siddharth.soni/.local/lib/python3.9/site-packages/gwpy/time/__init__.py:36: UserWarning: Wswiglal-redir-stdio:\n",
      "\n",
      "SWIGLAL standard output/error redirection is enabled in IPython.\n",
      "This may lead to performance penalties. To disable locally, use:\n",
      "\n",
      "with lal.no_swig_redirect_standard_output_error():\n",
      "    ...\n",
      "\n",
      "To disable globally, use:\n",
      "\n",
      "lal.swig_redirect_standard_output_error(False)\n",
      "\n",
      "Note however that this will likely lead to error messages from\n",
      "LAL functions being either misdirected or lost when called from\n",
      "Jupyter notebooks.\n",
      "\n",
      "To suppress this warning, use:\n",
      "\n",
      "import warnings\n",
      "warnings.filterwarnings(\"ignore\", \"Wswiglal-redir-stdio\")\n",
      "import lal\n",
      "\n",
      "  from lal import LIGOTimeGPS\n",
      "/home/siddharth.soni/.local/lib/python3.9/site-packages/pandas/core/computation/expressions.py:21: UserWarning: Pandas requires version '2.8.4' or newer of 'numexpr' (version '2.7.3' currently installed).\n",
      "  from pandas.core.computation.check import NUMEXPR_INSTALLED\n"
     ]
    }
   ],
   "source": [
    "from utils import combine_data_files, get_max_coherence"
   ]
  },
  {
   "cell_type": "code",
   "execution_count": 2,
   "id": "7616608a-5934-4af6-a79c-30874178c83e",
   "metadata": {},
   "outputs": [],
   "source": [
    "frNov18 = combine_data_files('/home/siddharth.soni/public_html/coherence_monitor/L1/2024-11-18/1415923218/data/1415993586/')"
   ]
  },
  {
   "cell_type": "code",
   "execution_count": 3,
   "id": "38999b6b-d815-4e58-9417-efe39204d76e",
   "metadata": {},
   "outputs": [
    {
     "data": {
      "text/html": [
       "<div>\n",
       "<style scoped>\n",
       "    .dataframe tbody tr th:only-of-type {\n",
       "        vertical-align: middle;\n",
       "    }\n",
       "\n",
       "    .dataframe tbody tr th {\n",
       "        vertical-align: top;\n",
       "    }\n",
       "\n",
       "    .dataframe thead th {\n",
       "        text-align: right;\n",
       "    }\n",
       "</style>\n",
       "<table border=\"1\" class=\"dataframe\">\n",
       "  <thead>\n",
       "    <tr style=\"text-align: right;\">\n",
       "      <th></th>\n",
       "      <th>freq</th>\n",
       "      <th>value</th>\n",
       "      <th>channel</th>\n",
       "    </tr>\n",
       "  </thead>\n",
       "  <tbody>\n",
       "    <tr>\n",
       "      <th>0</th>\n",
       "      <td>59.9</td>\n",
       "      <td>0.93</td>\n",
       "      <td>L1:PEM-EY_ACC_BSC5_ETMY_Z_DQ</td>\n",
       "    </tr>\n",
       "    <tr>\n",
       "      <th>1</th>\n",
       "      <td>60.0</td>\n",
       "      <td>0.95</td>\n",
       "      <td>L1:PEM-EY_ACC_BSC5_ETMY_Z_DQ</td>\n",
       "    </tr>\n",
       "    <tr>\n",
       "      <th>2</th>\n",
       "      <td>60.1</td>\n",
       "      <td>0.93</td>\n",
       "      <td>L1:PEM-EY_ACC_BSC5_ETMY_Z_DQ</td>\n",
       "    </tr>\n",
       "    <tr>\n",
       "      <th>3</th>\n",
       "      <td>120.0</td>\n",
       "      <td>0.15</td>\n",
       "      <td>L1:PEM-EY_ACC_BSC5_ETMY_Z_DQ</td>\n",
       "    </tr>\n",
       "    <tr>\n",
       "      <th>4</th>\n",
       "      <td>179.8</td>\n",
       "      <td>0.19</td>\n",
       "      <td>L1:PEM-EY_ACC_BSC5_ETMY_Z_DQ</td>\n",
       "    </tr>\n",
       "    <tr>\n",
       "      <th>...</th>\n",
       "      <td>...</td>\n",
       "      <td>...</td>\n",
       "      <td>...</td>\n",
       "    </tr>\n",
       "    <tr>\n",
       "      <th>256513</th>\n",
       "      <td>300.1</td>\n",
       "      <td>0.20</td>\n",
       "      <td>L1:PEM-EY_MAINSMON_EBAY_1_DQ</td>\n",
       "    </tr>\n",
       "    <tr>\n",
       "      <th>256514</th>\n",
       "      <td>360.0</td>\n",
       "      <td>0.20</td>\n",
       "      <td>L1:PEM-EY_MAINSMON_EBAY_1_DQ</td>\n",
       "    </tr>\n",
       "    <tr>\n",
       "      <th>256515</th>\n",
       "      <td>360.1</td>\n",
       "      <td>0.16</td>\n",
       "      <td>L1:PEM-EY_MAINSMON_EBAY_1_DQ</td>\n",
       "    </tr>\n",
       "    <tr>\n",
       "      <th>256516</th>\n",
       "      <td>60.0</td>\n",
       "      <td>0.13</td>\n",
       "      <td>L1:SUS-PR3_M2_WIT_L_DQ</td>\n",
       "    </tr>\n",
       "    <tr>\n",
       "      <th>256517</th>\n",
       "      <td>60.0</td>\n",
       "      <td>0.11</td>\n",
       "      <td>L1:SUS-OMC_M1_DAMP_L_IN1_DQ</td>\n",
       "    </tr>\n",
       "  </tbody>\n",
       "</table>\n",
       "<p>256518 rows × 3 columns</p>\n",
       "</div>"
      ],
      "text/plain": [
       "         freq  value                       channel\n",
       "0        59.9   0.93  L1:PEM-EY_ACC_BSC5_ETMY_Z_DQ\n",
       "1        60.0   0.95  L1:PEM-EY_ACC_BSC5_ETMY_Z_DQ\n",
       "2        60.1   0.93  L1:PEM-EY_ACC_BSC5_ETMY_Z_DQ\n",
       "3       120.0   0.15  L1:PEM-EY_ACC_BSC5_ETMY_Z_DQ\n",
       "4       179.8   0.19  L1:PEM-EY_ACC_BSC5_ETMY_Z_DQ\n",
       "...       ...    ...                           ...\n",
       "256513  300.1   0.20  L1:PEM-EY_MAINSMON_EBAY_1_DQ\n",
       "256514  360.0   0.20  L1:PEM-EY_MAINSMON_EBAY_1_DQ\n",
       "256515  360.1   0.16  L1:PEM-EY_MAINSMON_EBAY_1_DQ\n",
       "256516   60.0   0.13        L1:SUS-PR3_M2_WIT_L_DQ\n",
       "256517   60.0   0.11   L1:SUS-OMC_M1_DAMP_L_IN1_DQ\n",
       "\n",
       "[256518 rows x 3 columns]"
      ]
     },
     "execution_count": 3,
     "metadata": {},
     "output_type": "execute_result"
    }
   ],
   "source": [
    "frNov18"
   ]
  },
  {
   "cell_type": "code",
   "execution_count": 4,
   "id": "1482cdd6-9708-4359-9689-b9c3fd624121",
   "metadata": {},
   "outputs": [],
   "source": [
    "frmaxNov18 = get_max_coherence(frNov18, min_freq=0.0, max_freq=200.0, fft=10)"
   ]
  },
  {
   "cell_type": "code",
   "execution_count": 5,
   "id": "d8d33645-7975-46e6-b2a8-8300a3195a3e",
   "metadata": {},
   "outputs": [
    {
     "data": {
      "text/html": [
       "<div>\n",
       "<style scoped>\n",
       "    .dataframe tbody tr th:only-of-type {\n",
       "        vertical-align: middle;\n",
       "    }\n",
       "\n",
       "    .dataframe tbody tr th {\n",
       "        vertical-align: top;\n",
       "    }\n",
       "\n",
       "    .dataframe thead th {\n",
       "        text-align: right;\n",
       "    }\n",
       "</style>\n",
       "<table border=\"1\" class=\"dataframe\">\n",
       "  <thead>\n",
       "    <tr style=\"text-align: right;\">\n",
       "      <th></th>\n",
       "      <th>freq</th>\n",
       "      <th>value</th>\n",
       "      <th>channel</th>\n",
       "    </tr>\n",
       "  </thead>\n",
       "  <tbody>\n",
       "    <tr>\n",
       "      <th>0</th>\n",
       "      <td>2.8</td>\n",
       "      <td>0.19</td>\n",
       "      <td>L1:SUS-ETMX_M0_DAMP_L_IN1_DQ</td>\n",
       "    </tr>\n",
       "    <tr>\n",
       "      <th>1</th>\n",
       "      <td>2.9</td>\n",
       "      <td>0.4</td>\n",
       "      <td>L1:LSC-MICH_OUT_DQ</td>\n",
       "    </tr>\n",
       "    <tr>\n",
       "      <th>2</th>\n",
       "      <td>3.0</td>\n",
       "      <td>0.48</td>\n",
       "      <td>L1:SUS-ETMX_L2_WIT_L_DQ</td>\n",
       "    </tr>\n",
       "    <tr>\n",
       "      <th>3</th>\n",
       "      <td>3.1</td>\n",
       "      <td>0.57</td>\n",
       "      <td>L1:SUS-ETMX_L2_WIT_L_DQ</td>\n",
       "    </tr>\n",
       "    <tr>\n",
       "      <th>4</th>\n",
       "      <td>3.2</td>\n",
       "      <td>0.69</td>\n",
       "      <td>L1:LSC-SRCL_OUT_DQ</td>\n",
       "    </tr>\n",
       "    <tr>\n",
       "      <th>...</th>\n",
       "      <td>...</td>\n",
       "      <td>...</td>\n",
       "      <td>...</td>\n",
       "    </tr>\n",
       "    <tr>\n",
       "      <th>124</th>\n",
       "      <td>179.8</td>\n",
       "      <td>0.41</td>\n",
       "      <td>L1:ISI-ITMX_ST2_BLND_RZ_GS13_CUR_IN1_DQ</td>\n",
       "    </tr>\n",
       "    <tr>\n",
       "      <th>125</th>\n",
       "      <td>179.9</td>\n",
       "      <td>0.94</td>\n",
       "      <td>L1:PEM-EY_MAINSMON_EBAY_1_DQ</td>\n",
       "    </tr>\n",
       "    <tr>\n",
       "      <th>126</th>\n",
       "      <td>180.0</td>\n",
       "      <td>0.97</td>\n",
       "      <td>L1:PEM-EY_ACC_BSC5_ETMY_Z_DQ</td>\n",
       "    </tr>\n",
       "    <tr>\n",
       "      <th>127</th>\n",
       "      <td>180.1</td>\n",
       "      <td>0.94</td>\n",
       "      <td>L1:ISI-HAM7_BLND_GS13Z_IN1_DQ</td>\n",
       "    </tr>\n",
       "    <tr>\n",
       "      <th>128</th>\n",
       "      <td>180.2</td>\n",
       "      <td>0.31</td>\n",
       "      <td>L1:PEM-EX_MAG_EBAY_SUSRACK_X_DQ</td>\n",
       "    </tr>\n",
       "  </tbody>\n",
       "</table>\n",
       "<p>129 rows × 3 columns</p>\n",
       "</div>"
      ],
      "text/plain": [
       "      freq value                                  channel\n",
       "0      2.8  0.19             L1:SUS-ETMX_M0_DAMP_L_IN1_DQ\n",
       "1      2.9   0.4                       L1:LSC-MICH_OUT_DQ\n",
       "2      3.0  0.48                  L1:SUS-ETMX_L2_WIT_L_DQ\n",
       "3      3.1  0.57                  L1:SUS-ETMX_L2_WIT_L_DQ\n",
       "4      3.2  0.69                       L1:LSC-SRCL_OUT_DQ\n",
       "..     ...   ...                                      ...\n",
       "124  179.8  0.41  L1:ISI-ITMX_ST2_BLND_RZ_GS13_CUR_IN1_DQ\n",
       "125  179.9  0.94             L1:PEM-EY_MAINSMON_EBAY_1_DQ\n",
       "126  180.0  0.97             L1:PEM-EY_ACC_BSC5_ETMY_Z_DQ\n",
       "127  180.1  0.94            L1:ISI-HAM7_BLND_GS13Z_IN1_DQ\n",
       "128  180.2  0.31          L1:PEM-EX_MAG_EBAY_SUSRACK_X_DQ\n",
       "\n",
       "[129 rows x 3 columns]"
      ]
     },
     "execution_count": 5,
     "metadata": {},
     "output_type": "execute_result"
    }
   ],
   "source": [
    "frmaxNov18"
   ]
  },
  {
   "cell_type": "code",
   "execution_count": 7,
   "id": "b47f211d-0bae-425f-b433-71fff7693bc7",
   "metadata": {},
   "outputs": [
    {
     "data": {
      "text/html": [
       "<div>\n",
       "<style scoped>\n",
       "    .dataframe tbody tr th:only-of-type {\n",
       "        vertical-align: middle;\n",
       "    }\n",
       "\n",
       "    .dataframe tbody tr th {\n",
       "        vertical-align: top;\n",
       "    }\n",
       "\n",
       "    .dataframe thead th {\n",
       "        text-align: right;\n",
       "    }\n",
       "</style>\n",
       "<table border=\"1\" class=\"dataframe\">\n",
       "  <thead>\n",
       "    <tr style=\"text-align: right;\">\n",
       "      <th></th>\n",
       "      <th>freq</th>\n",
       "      <th>value</th>\n",
       "      <th>channel</th>\n",
       "    </tr>\n",
       "  </thead>\n",
       "  <tbody>\n",
       "    <tr>\n",
       "      <th>121</th>\n",
       "      <td>83.3</td>\n",
       "      <td>0.87</td>\n",
       "      <td>L1:PEM-MX_ACC_BEAMTUBE_VEA_X_DQ</td>\n",
       "    </tr>\n",
       "  </tbody>\n",
       "</table>\n",
       "</div>"
      ],
      "text/plain": [
       "     freq value                          channel\n",
       "121  83.3  0.87  L1:PEM-MX_ACC_BEAMTUBE_VEA_X_DQ"
      ]
     },
     "execution_count": 7,
     "metadata": {},
     "output_type": "execute_result"
    }
   ],
   "source": [
    "frmaxNov18[frmaxNov18.freq==83.3]"
   ]
  },
  {
   "cell_type": "code",
   "execution_count": 2,
   "id": "3e533302-3755-441e-89fd-ef504142b465",
   "metadata": {},
   "outputs": [],
   "source": [
    "import os, shutil "
   ]
  },
  {
   "cell_type": "code",
   "execution_count": 14,
   "id": "e2d58acd-d400-4968-8ffc-7084998b96ef",
   "metadata": {},
   "outputs": [],
   "source": [
    "cur_dir = '/home/siddharth.soni/public_html/coherence_monitor/L1/2024-11-01/1414454418/'\n",
    "par_dir = os.path.abspath(os.path.join(cur_dir, os.pardir))"
   ]
  },
  {
   "cell_type": "code",
   "execution_count": 15,
   "id": "c9b34e75-4da0-444b-b58e-d1bba5cf4a02",
   "metadata": {},
   "outputs": [
    {
     "data": {
      "text/plain": [
       "'/home/siddharth.soni/public_html/coherence_monitor/L1/2024-11-01'"
      ]
     },
     "execution_count": 15,
     "metadata": {},
     "output_type": "execute_result"
    }
   ],
   "source": [
    "par_dir"
   ]
  },
  {
   "cell_type": "code",
   "execution_count": 17,
   "id": "78fa2640-cfc1-41c1-bb00-077439ac073b",
   "metadata": {},
   "outputs": [
    {
     "name": "stdout",
     "output_type": "stream",
     "text": [
      "Deleted directory: /home/siddharth.soni/public_html/coherence_monitor/L1/2024-11-01/1414454418/\n"
     ]
    }
   ],
   "source": [
    "for item in os.listdir(cur_dir):\n",
    "    source = os.path.join(cur_dir, item)\n",
    "    destination = os.path.join(par_dir, item)\n",
    "    \n",
    "    # Move only if source exists\n",
    "    if os.path.exists(source):\n",
    "        shutil.move(source, destination)\n",
    "#Delete the current directory\n",
    "try:\n",
    "    os.rmdir(cur_dir)  # Use this if the directory is expected to be empty\n",
    "    print(f\"Deleted directory: {cur_dir}\")\n",
    "except OSError:\n",
    "    # If the directory isn't empty, use shutil.rmtree\n",
    "    shutil.rmtree(cur_dir)\n",
    "    print(f\"Deleted non-empty directory: {cur_dir}\")"
   ]
  },
  {
   "cell_type": "code",
   "execution_count": 47,
   "id": "dbb75366-74ab-4025-b39f-03a55a0bd7e5",
   "metadata": {},
   "outputs": [],
   "source": [
    "def move_files_del_old_dir(date, ifo):\n",
    "    \n",
    "    gpstime = str(to_gps(date).gpsSeconds)\n",
    "    cur_dir = os.path.join(f'/home/siddharth.soni/public_html/coherence_monitor/{ifo}/', date, gpstime, '')\n",
    "    par_dir = os.path.abspath(os.path.join(cur_dir, os.pardir))\n",
    "    \n",
    "#     for item in os.listdir(cur_dir):\n",
    "#         source = os.path.join(cur_dir, item)\n",
    "#         destination = os.path.join(par_dir, item)\n",
    "\n",
    "#         # Move only if source exists\n",
    "#         if os.path.exists(source):\n",
    "#             shutil.move(source, destination)\n",
    "            \n",
    "        \n",
    "    #Delete the current directory\n",
    "    try:\n",
    "        os.rmdir(cur_dir)  # Use this if the directory is expected to be empty\n",
    "        print(f\"Deleted directory: {cur_dir}\")\n",
    "    except OSError:\n",
    "        # If the directory isn't empty, use shutil.rmtree\n",
    "        shutil.rmtree(cur_dir)\n",
    "        print(f\"Deleted non-empty directory: {cur_dir}\")\n",
    "        \n",
    "    return"
   ]
  },
  {
   "cell_type": "code",
   "execution_count": 23,
   "id": "a4f9b2fd-60f5-4314-b344-5cb15da902d9",
   "metadata": {},
   "outputs": [],
   "source": [
    "Nov_Dec_files = sorted(os.listdir('/home/siddharth.soni/public_html/coherence_monitor/L1/'))[26:]"
   ]
  },
  {
   "cell_type": "code",
   "execution_count": 31,
   "id": "17193d66-b55d-43eb-b592-c244cd1da4f0",
   "metadata": {},
   "outputs": [
    {
     "name": "stdout",
     "output_type": "stream",
     "text": [
      "Deleted directory: /home/siddharth.soni/public_html/coherence_monitor/L1/2024-11-02/1414540818/\n"
     ]
    }
   ],
   "source": [
    "move_files_del_old_dir('2024-11-02')"
   ]
  },
  {
   "cell_type": "code",
   "execution_count": 38,
   "id": "95e5f09b-0efa-4a15-af70-e673ce6901d7",
   "metadata": {},
   "outputs": [],
   "source": [
    "# for date in Nov_Dec_files[2:]:\n",
    "#     move_files_del_old_dir(date)"
   ]
  },
  {
   "cell_type": "code",
   "execution_count": 43,
   "id": "52663f75-84df-4231-8b2a-d9b480654659",
   "metadata": {},
   "outputs": [],
   "source": [
    "Nov_Dec_files_H1 = sorted(os.listdir('/home/siddharth.soni/public_html/coherence_monitor/H1/'))[40:]"
   ]
  },
  {
   "cell_type": "code",
   "execution_count": 49,
   "id": "04b9bb2a-15f5-4cc7-98fe-17220fdf77ab",
   "metadata": {},
   "outputs": [],
   "source": [
    "# for date in Nov_Dec_files_H1:\n",
    "#     move_files_del_old_dir(date, ifo='H1')"
   ]
  },
  {
   "cell_type": "code",
   "execution_count": 22,
   "id": "8b6ee9fe-d664-4ced-bddb-d5aab99dc2eb",
   "metadata": {},
   "outputs": [],
   "source": [
    "import os\n",
    "import calendar\n",
    "from datetime import datetime\n",
    "\n",
    "# Base directory containing your folders\n",
    "#base_dir = \"/home/siddharth.soni/public_html/date_folders/L1/\"\n",
    "\n",
    "# Extract year and month ranges dynamically or define them manually\n",
    "year = 2024\n",
    "months = [11, 12]  # For November and December\n",
    "\n",
    "# Generate HTML for the calendar\n",
    "def generate_calendar_with_links(base_dir, year, months, ifo):\n",
    "    # Start HTML content\n",
    "    html_content = f\"\"\"\n",
    "    <!DOCTYPE html>\n",
    "    <html>\n",
    "    <head>\n",
    "        <title>Calendar</title>\n",
    "        <style>\n",
    "            body {{\n",
    "                font-family: Arial, sans-serif;\n",
    "                margin: 20px;\n",
    "            }}\n",
    "            .calendar {{\n",
    "                display: grid;\n",
    "                grid-template-columns: repeat(2, 1fr);\n",
    "                gap: 20px;\n",
    "            }}\n",
    "            .month {{\n",
    "                border: 1px solid #ccc;\n",
    "                border-radius: 8px;\n",
    "                padding: 10px;\n",
    "                box-shadow: 2px 2px 8px rgba(0,0,0,0.1);\n",
    "            }}\n",
    "            table {{\n",
    "                width: 100%;\n",
    "                border-collapse: collapse;\n",
    "                text-align: center;\n",
    "            }}\n",
    "            th, td {{\n",
    "                border: 1px solid #ddd;\n",
    "                padding: 8px;\n",
    "            }}\n",
    "            th {{\n",
    "                background-color: #f4f4f4;\n",
    "            }}\n",
    "            td {{\n",
    "                height: 50px;\n",
    "            }}\n",
    "            .day {{\n",
    "                font-weight: bold;\n",
    "            }}\n",
    "            .link {{\n",
    "                text-decoration: none;\n",
    "                color: dodgerblue;\n",
    "            }}\n",
    "            .link:hover {{\n",
    "                text-decoration: underline;\n",
    "            }}\n",
    "        </style>\n",
    "    </head>\n",
    "    <body>\n",
    "        <h1> {ifo}: CohMon for {year}</h1>\n",
    "        <div class=\"calendar\">\n",
    "    \"\"\"\n",
    "\n",
    "    # Get all folders in the base directory\n",
    "    existing_folders = set(os.listdir(base_dir))\n",
    "\n",
    "    for month in months:\n",
    "        month_name = calendar.month_name[month]\n",
    "        _, num_days = calendar.monthrange(year, month)\n",
    "\n",
    "        # Start a month container\n",
    "        html_content += f\"\"\"\n",
    "        <div class=\"month\">\n",
    "            <h2>{month_name}</h2>\n",
    "            <table>\n",
    "                <thead>\n",
    "                    <tr>\n",
    "                        <th>Sun</th>\n",
    "                        <th>Mon</th>\n",
    "                        <th>Tue</th>\n",
    "                        <th>Wed</th>\n",
    "                        <th>Thu</th>\n",
    "                        <th>Fri</th>\n",
    "                        <th>Sat</th>\n",
    "                    </tr>\n",
    "                </thead>\n",
    "                <tbody>\n",
    "        \"\"\"\n",
    "\n",
    "        # Generate days in calendar format\n",
    "        cal = calendar.Calendar()\n",
    "        month_days = cal.monthdayscalendar(year, month)\n",
    "        for week in month_days:\n",
    "            html_content += \"<tr>\"\n",
    "            for day in week:\n",
    "                if day == 0:\n",
    "                    # Empty cell for days outside the month\n",
    "                    html_content += \"<td></td>\"\n",
    "                else:\n",
    "                    # Create the folder name (e.g., \"2024-11-01\")\n",
    "                    folder_name = f\"{year}-{month:02d}-{day:02d}\"\n",
    "                    if folder_name in existing_folders:\n",
    "                        # Add clickable link if the folder exists\n",
    "                        html_content += f'<td><a href=\"{folder_name}\" class=\"link\">{day}</a></td>'\n",
    "                    else:\n",
    "                        # Show the day without a link if the folder doesn't exist\n",
    "                        html_content += f'<td>{day}</td>'\n",
    "            html_content += \"</tr>\"\n",
    "\n",
    "        # Close the month container\n",
    "        html_content += \"\"\"\n",
    "                </tbody>\n",
    "            </table>\n",
    "        </div>\n",
    "        \"\"\"\n",
    "\n",
    "    # End HTML content\n",
    "    html_content += \"\"\"\n",
    "        </div>\n",
    "    </body>\n",
    "    </html>\n",
    "    \"\"\"\n",
    "\n",
    "    # Save to file\n",
    "    output_path = os.path.join(base_dir, f\"calendar_{year}.html\")\n",
    "    with open(output_path, \"w\") as file:\n",
    "        file.write(html_content)\n",
    "\n",
    "    print(f\"Calendar HTML file created: {output_path}\")\n",
    "    \n",
    "    return"
   ]
  },
  {
   "cell_type": "code",
   "execution_count": 23,
   "id": "0c0e6d9c-28ec-4ea1-85b0-d8624ef75a57",
   "metadata": {},
   "outputs": [
    {
     "name": "stdout",
     "output_type": "stream",
     "text": [
      "Calendar HTML file created: /home/siddharth.soni/public_html/coherence_monitor/L1/calendar_2024.html\n"
     ]
    }
   ],
   "source": [
    "# Generate calendar for the year 2024 for specified months\n",
    "base_dir_L1 = '/home/siddharth.soni/public_html/coherence_monitor/L1/'\n",
    "generate_calendar_with_links(base_dir=base_dir_L1, year=2024, ifo='L1', months=[11, 12])\n"
   ]
  },
  {
   "cell_type": "code",
   "execution_count": 24,
   "id": "de4f11ac-41be-4a21-8212-f264c3783049",
   "metadata": {},
   "outputs": [
    {
     "name": "stdout",
     "output_type": "stream",
     "text": [
      "Calendar HTML file created: /home/siddharth.soni/public_html/coherence_monitor/H1/calendar_2024.html\n"
     ]
    }
   ],
   "source": [
    "base_dir_H1 = '/home/siddharth.soni/public_html/coherence_monitor/H1/'\n",
    "generate_calendar_with_links(base_dir=base_dir_H1, year=2024, ifo='H1', months=[11, 12])"
   ]
  },
  {
   "cell_type": "code",
   "execution_count": 77,
   "id": "d7754aa5-4a67-4106-96f9-a3d81aa0eb60",
   "metadata": {},
   "outputs": [],
   "source": [
    "from gwpy.time import from_gps, to_gps\n",
    "date_str = from_gps(1415840718)"
   ]
  },
  {
   "cell_type": "code",
   "execution_count": 84,
   "id": "fbb3e62c-5380-46ea-9803-58c09229783a",
   "metadata": {},
   "outputs": [
    {
     "data": {
      "text/plain": [
       "'01:05'"
      ]
     },
     "execution_count": 84,
     "metadata": {},
     "output_type": "execute_result"
    }
   ],
   "source": [
    "date_str\n",
    "date_str.strftime(\"%H:%M\")"
   ]
  },
  {
   "cell_type": "code",
   "execution_count": 80,
   "id": "12d5e77c-201e-457d-9303-11d5850df961",
   "metadata": {},
   "outputs": [],
   "source": [
    "date_str2 = from_gps(1415905518)"
   ]
  },
  {
   "cell_type": "code",
   "execution_count": 85,
   "id": "30eb6321-dcee-411a-bdb1-f71978929856",
   "metadata": {},
   "outputs": [
    {
     "data": {
      "text/plain": [
       "'19:05'"
      ]
     },
     "execution_count": 85,
     "metadata": {},
     "output_type": "execute_result"
    }
   ],
   "source": [
    "date_str2.strftime(\"%H:%M\")"
   ]
  },
  {
   "cell_type": "code",
   "execution_count": 86,
   "id": "65cd89a5-aaf5-4473-88e2-fcc32f4e8dc6",
   "metadata": {},
   "outputs": [
    {
     "data": {
      "text/plain": [
       "'00:00'"
      ]
     },
     "execution_count": 86,
     "metadata": {},
     "output_type": "execute_result"
    }
   ],
   "source": [
    "from_gps(1414454431).strftime(\"%H:%M\")"
   ]
  },
  {
   "cell_type": "code",
   "execution_count": 87,
   "id": "00f51ba8-4a38-469e-9f0f-7a3d877cd118",
   "metadata": {},
   "outputs": [
    {
     "data": {
      "text/plain": [
       "'02:39'"
      ]
     },
     "execution_count": 87,
     "metadata": {},
     "output_type": "execute_result"
    }
   ],
   "source": [
    "from_gps(1414464012).strftime(\"%H:%M\")"
   ]
  },
  {
   "cell_type": "code",
   "execution_count": 88,
   "id": "69c6650c-ea2c-4253-bed5-1b4a35385db9",
   "metadata": {},
   "outputs": [
    {
     "data": {
      "text/plain": [
       "'04:39'"
      ]
     },
     "execution_count": 88,
     "metadata": {},
     "output_type": "execute_result"
    }
   ],
   "source": [
    "from_gps(1414471212).strftime(\"%H:%M\")"
   ]
  },
  {
   "cell_type": "code",
   "execution_count": 89,
   "id": "b11b192d-7ebd-4336-a6ef-85251da6e69f",
   "metadata": {},
   "outputs": [
    {
     "data": {
      "text/plain": [
       "datetime.datetime(2024, 11, 1, 2, 39, 54)"
      ]
     },
     "execution_count": 89,
     "metadata": {},
     "output_type": "execute_result"
    }
   ],
   "source": [
    "from_gps(1414464012)"
   ]
  },
  {
   "cell_type": "code",
   "execution_count": 6,
   "id": "8cbcf054-f27d-4239-8405-1c4a3091402e",
   "metadata": {},
   "outputs": [
    {
     "name": "stderr",
     "output_type": "stream",
     "text": [
      "/home/siddharth.soni/.local/lib/python3.9/site-packages/gwpy/time/__init__.py:36: UserWarning: Wswiglal-redir-stdio:\n",
      "\n",
      "SWIGLAL standard output/error redirection is enabled in IPython.\n",
      "This may lead to performance penalties. To disable locally, use:\n",
      "\n",
      "with lal.no_swig_redirect_standard_output_error():\n",
      "    ...\n",
      "\n",
      "To disable globally, use:\n",
      "\n",
      "lal.swig_redirect_standard_output_error(False)\n",
      "\n",
      "Note however that this will likely lead to error messages from\n",
      "LAL functions being either misdirected or lost when called from\n",
      "Jupyter notebooks.\n",
      "\n",
      "To suppress this warning, use:\n",
      "\n",
      "import warnings\n",
      "warnings.filterwarnings(\"ignore\", \"Wswiglal-redir-stdio\")\n",
      "import lal\n",
      "\n",
      "  from lal import LIGOTimeGPS\n"
     ]
    }
   ],
   "source": [
    "import os\n",
    "from gwpy.time import from_gps, to_gps\n",
    "from datetime import datetime\n",
    "\n",
    "# Base directory containing the date folders\n",
    "base_dir = \"/home/siddharth.soni/public_html/date_folders/\"\n",
    "\n",
    "# Output HTML file\n",
    "\n",
    "\n",
    "def generate_calendar_with_sorted_time_links(base_dir, ifo):\n",
    "    # Start HTML content\n",
    "    html_content = \"\"\"\n",
    "    <!DOCTYPE html>\n",
    "    <html>\n",
    "    <head>\n",
    "        <title>Folder Calendar</title>\n",
    "        <style>\n",
    "            body {\n",
    "                font-family: Arial, sans-serif;\n",
    "                margin: 20px;\n",
    "            }\n",
    "            .calendar {\n",
    "                display: grid;\n",
    "                grid-template-columns: repeat(3, 1fr); /* Adjust columns per row */\n",
    "                gap: 20px;\n",
    "            }\n",
    "            .date {\n",
    "                border: 1px solid #ddd;\n",
    "                border-radius: 8px;\n",
    "                padding: 10px;\n",
    "                box-shadow: 2px 2px 8px rgba(0,0,0,0.1);\n",
    "            }\n",
    "            .date h2 {\n",
    "                text-align: center;\n",
    "                margin-bottom: 10px;\n",
    "            }\n",
    "            .time-links {\n",
    "                display: flex;\n",
    "                flex-wrap: wrap;\n",
    "                gap: 10px;\n",
    "                justify-content: center;\n",
    "            }\n",
    "            .time-links a {\n",
    "                text-decoration: none;\n",
    "                color: dodgerblue;\n",
    "                padding: 5px 10px;\n",
    "                border: 1px solid #ddd;\n",
    "                border-radius: 5px;\n",
    "                background-color: #f9f9f9;\n",
    "            }\n",
    "            .time-links a:hover {\n",
    "                background-color: #e0e0e0;\n",
    "            }\n",
    "        </style>\n",
    "    </head>\n",
    "    <body>\n",
    "        <h1 style=\"text-align: center;\"> CohMon plots </h1>\n",
    "        <div class=\"calendar\">\n",
    "    \"\"\"\n",
    "    \n",
    "    base_dir = os.path.join(base_dir, ifo, '')\n",
    "    \n",
    "    output_html = os.path.join(base_dir, \"calendar.html\")\n",
    "\n",
    "    # Iterate through date folders\n",
    "    for date_folder in sorted(os.listdir(base_dir)):\n",
    "        date_path = os.path.join(base_dir, date_folder)\n",
    "        if os.path.isdir(date_path):\n",
    "            # Start a date block\n",
    "            html_content += f\"\"\"\n",
    "            <div class=\"date\">\n",
    "                <h2>{date_folder}</h2>\n",
    "                <div class=\"time-links\">\n",
    "            \"\"\"\n",
    "\n",
    "            # Gather time folders and sort by time\n",
    "            time_folders = []\n",
    "            for time_folder in os.listdir(date_path):\n",
    "                time_path = os.path.join(date_path, time_folder)\n",
    "                if os.path.isdir(time_path) and time_folder.isdigit():\n",
    "                    try:\n",
    "                        # Convert timestamp to datetime\n",
    "                        timestamp = int(time_folder)\n",
    "                        time_dt = from_gps(timestamp)\n",
    "                        time_folders.append((time_dt, time_folder))\n",
    "                    except ValueError:\n",
    "                        # Skip invalid timestamps\n",
    "                        continue\n",
    "\n",
    "            # Sort the time folders by the datetime\n",
    "            time_folders.sort(key=lambda x: x[0])\n",
    "\n",
    "            # Add links for each sorted time folder\n",
    "            for time_dt, time_folder in time_folders:\n",
    "                time_str = time_dt.strftime(\"%H:%M\")\n",
    "                time_path = os.path.join(date_folder, time_folder)\n",
    "                files = os.listdir(os.path.join(date_path, time_folder))\n",
    "                if files:\n",
    "                    first_file = files[0]  # Choose the first file\n",
    "                    file_link = os.path.join(date_folder, time_folder, first_file)\n",
    "\n",
    "                    # Add a clickable HH:MM link that points to the file\n",
    "                    html_content += f\"\"\"\n",
    "                        <a href=\"{file_link}\" target=\"_blank\">{time_str}</a>\n",
    "                    \"\"\"\n",
    "\n",
    "            # Close the date block\n",
    "            html_content += \"\"\"\n",
    "                </div>\n",
    "            </div>\n",
    "            \"\"\"\n",
    "\n",
    "    # Close HTML content\n",
    "    html_content += \"\"\"\n",
    "        </div>\n",
    "    </body>\n",
    "    </html>\n",
    "    \"\"\"\n",
    "\n",
    "    # Write HTML to the output file\n",
    "    with open(output_html, \"w\") as file:\n",
    "        file.write(html_content)\n",
    "\n",
    "    print(f\"HTML calendar with sorted file links created: {output_html}\")\n",
    "    \n",
    "    return\n",
    "\n",
    "\n"
   ]
  },
  {
   "cell_type": "code",
   "execution_count": 224,
   "id": "9e4f8a81-d26b-45d8-aa4f-d939b3f7588f",
   "metadata": {},
   "outputs": [
    {
     "data": {
      "text/plain": [
       "datetime.datetime(2024, 11, 28, 1, 38, 59)"
      ]
     },
     "execution_count": 224,
     "metadata": {},
     "output_type": "execute_result"
    }
   ],
   "source": [
    "from_gps(1416793157)"
   ]
  },
  {
   "cell_type": "code",
   "execution_count": 7,
   "id": "66867299-4967-469e-9bb8-fc128e1b925a",
   "metadata": {},
   "outputs": [
    {
     "name": "stdout",
     "output_type": "stream",
     "text": [
      "HTML calendar with sorted file links created: /home/siddharth.soni/public_html/date_folders/L1/calendar.html\n"
     ]
    }
   ],
   "source": [
    "# Generate the calendar HTML\n",
    "generate_calendar_with_sorted_time_links(base_dir, ifo='L1')"
   ]
  },
  {
   "cell_type": "code",
   "execution_count": 126,
   "id": "3c2bd4da-2891-41d2-b8e1-5613389841ec",
   "metadata": {},
   "outputs": [
    {
     "name": "stdout",
     "output_type": "stream",
     "text": [
      "/home/siddharth.soni/public_html/date_folders/L1/2024-11-28\n",
      "/home/siddharth.soni/public_html/date_folders/L1/2024-11-29\n",
      "/home/siddharth.soni/public_html/date_folders/L1/2024-12-01\n"
     ]
    }
   ],
   "source": [
    "for date_folder in sorted(os.listdir(base_dir)):\n",
    "        date_path = os.path.join(base_dir, date_folder)\n",
    "        print(date_path)\n",
    "        time_folders = []\n",
    "        for time_folder in os.listdir(date_path):\n",
    "            time_folders.append(time_folder)"
   ]
  },
  {
   "cell_type": "code",
   "execution_count": 128,
   "id": "10b88f19-00fb-44d4-9726-cd9af2aa1276",
   "metadata": {},
   "outputs": [
    {
     "data": {
      "text/plain": [
       "['1417055350',\n",
       " '1417058950',\n",
       " '1417062550',\n",
       " '1417075518',\n",
       " '1417079118',\n",
       " '1417082718',\n",
       " '1417086318',\n",
       " '1417089918',\n",
       " '1417093518',\n",
       " '1417097118',\n",
       " '1417104318',\n",
       " '1417107918',\n",
       " '1417111518',\n",
       " '1417115118',\n",
       " '1417118718',\n",
       " '1417122318',\n",
       " '1417125918']"
      ]
     },
     "execution_count": 128,
     "metadata": {},
     "output_type": "execute_result"
    }
   ],
   "source": [
    "sorted(time_folders)"
   ]
  },
  {
   "cell_type": "code",
   "execution_count": 41,
   "id": "407691c9-1654-4d74-8d4f-10f36a1c5fbd",
   "metadata": {},
   "outputs": [
    {
     "data": {
      "text/plain": [
       "'/siddharth.soni/public_html/date_folders/L1/2024-11-01/1414454431'"
      ]
     },
     "execution_count": 41,
     "metadata": {},
     "output_type": "execute_result"
    }
   ],
   "source": [
    "'home/siddharth.soni/public_html/date_folders/L1/2024-11-01/1414454431'"
   ]
  },
  {
   "cell_type": "code",
   "execution_count": 38,
   "id": "7a7a78d8-2e15-48be-ae26-3cc7f9f783a8",
   "metadata": {},
   "outputs": [],
   "source": [
    "import os\n",
    "import calendar\n",
    "from datetime import datetime\n",
    "from gwpy.time import to_gps, from_gps\n",
    "\n",
    "\n",
    "# Generate HTML for the calendar\n",
    "def generate_calendar_with_links(base_dir, year, months, ifo):\n",
    "    \n",
    "    base_dir = os.path.join(base_dir, ifo, '')\n",
    "    title = 'CohMon Plots'\n",
    "    if ifo =='L1':\n",
    "        date_color='dodgerblue'\n",
    "        link_color='cornflowerblue'\n",
    "    else:\n",
    "        date_color='tomato'\n",
    "        link_color='salmon'\n",
    "    \n",
    "    html_content = f\"\"\"\n",
    "    <!DOCTYPE html>\n",
    "    <html>\n",
    "    <head>\n",
    "        <title>Calendar</title>\n",
    "        <style>\n",
    "            body {{\n",
    "                font-family: Arial, sans-serif;\n",
    "                margin: 20px;\n",
    "            }}\n",
    "            .calendar {{\n",
    "                display: grid;\n",
    "                grid-template-columns: repeat(2, 1fr);\n",
    "                gap: 20px;\n",
    "            }}\n",
    "            .month {{\n",
    "                border: 1px solid #ccc;\n",
    "                border-radius: 8px;\n",
    "                padding: 10px;\n",
    "                box-shadow: 2px 2px 8px rgba(0,0,0,0.1);\n",
    "            }}\n",
    "            table {{\n",
    "                width: 100%;\n",
    "                border-collapse: collapse;\n",
    "                text-align: center;\n",
    "            }}\n",
    "            th, td {{\n",
    "                border: 1px solid #ddd;\n",
    "                padding: 8px;\n",
    "            }}\n",
    "            th {{\n",
    "                background-color: #f4f4f4;\n",
    "            }}\n",
    "            td {{\n",
    "                height: 50px;\n",
    "                vertical-align: top;\n",
    "                position: relative;\n",
    "            }}\n",
    "            .day {{\n",
    "                font-weight: bold;\n",
    "            }}\n",
    "            .link {{\n",
    "                text-decoration: none;\n",
    "                color: {date_color};\n",
    "                cursor: pointer;\n",
    "            }}\n",
    "            .link:hover {{\n",
    "                text-decoration: underline;\n",
    "            }}\n",
    "            .time-links {{\n",
    "                display: none;\n",
    "                position: absolute;\n",
    "                top: 50px;\n",
    "                left: 0;\n",
    "                background-color: white;\n",
    "                border: 1px solid #ddd;\n",
    "                padding: 10px;\n",
    "                z-index: 10;\n",
    "                box-shadow: 0 4px 6px rgba(0, 0, 0, 0.1);\n",
    "            }}\n",
    "            .time-links a {{\n",
    "                display: block;\n",
    "                color: {link_color};\n",
    "                margin-bottom: 5px;\n",
    "            }}\n",
    "            .time-links a:hover {{\n",
    "                text-decoration: underline;\n",
    "            }}\n",
    "        </style>\n",
    "        <script>\n",
    "            function toggleVisibility(dateId) {{\n",
    "                // Hide all currently visible time-links\n",
    "                const timeLinks = document.querySelectorAll('.time-links');\n",
    "                timeLinks.forEach(link => {{\n",
    "                    if (link.id !== dateId) {{\n",
    "                        link.style.display = \"none\";\n",
    "                    }}\n",
    "                }});\n",
    "\n",
    "                // Toggle the visibility of the clicked time-links\n",
    "                const element = document.getElementById(dateId);\n",
    "                if (element.style.display === \"none\" || element.style.display === \"\") {{\n",
    "                    element.style.display = \"block\";\n",
    "                }} else {{\n",
    "                    element.style.display = \"none\";\n",
    "                }}\n",
    "            }}\n",
    "        </script>\n",
    "    </head>\n",
    "    <body>\n",
    "        <h1>{ifo} {title}: {year}</h1>\n",
    "        <div class=\"calendar\">\n",
    "        \"\"\"\n",
    "\n",
    "\n",
    "    # Get all folders in the base directory\n",
    "    existing_folders = set(os.listdir(base_dir))\n",
    "\n",
    "    for month in months:\n",
    "        month_name = calendar.month_name[month]\n",
    "        _, num_days = calendar.monthrange(year, month)\n",
    "\n",
    "        # Start a month container\n",
    "        html_content += f\"\"\"\n",
    "        <div class=\"month\">\n",
    "            <h2>{month_name}</h2>\n",
    "            <table>\n",
    "                <thead>\n",
    "                    <tr>\n",
    "                        <th>Sun</th>\n",
    "                        <th>Mon</th>\n",
    "                        <th>Tue</th>\n",
    "                        <th>Wed</th>\n",
    "                        <th>Thu</th>\n",
    "                        <th>Fri</th>\n",
    "                        <th>Sat</th>\n",
    "                    </tr>\n",
    "                </thead>\n",
    "                <tbody>\n",
    "        \"\"\"\n",
    "\n",
    "        # Generate days in calendar format\n",
    "        cal = calendar.Calendar()\n",
    "        month_days = cal.monthdayscalendar(year, month)\n",
    "        for week in month_days:\n",
    "            html_content += \"<tr>\"\n",
    "            for day in week:\n",
    "                if day == 0:\n",
    "                    # Empty cell for days outside the month\n",
    "                    html_content += \"<td></td>\"\n",
    "                else:\n",
    "                    # Create the folder name (e.g., \"2024-11-01\")\n",
    "                    folder_name = f\"{year}-{month:02d}-{day:02d}\"\n",
    "                    if folder_name in existing_folders:\n",
    "                        # Get time folders inside the date folder\n",
    "                        time_folders_html = \"\"\n",
    "                        time_folder_path = os.path.join(base_dir, folder_name)\n",
    "                        if os.path.isdir(time_folder_path):\n",
    "                            for time_folder in sorted(os.listdir(time_folder_path)):\n",
    "                                time_folder_full_path = os.path.join(time_folder_path, time_folder)\n",
    "                                if os.path.isdir(time_folder_full_path) and time_folder.isdigit():\n",
    "                                    # Convert timestamp to HH:MM format\n",
    "                                    timestamp = int(time_folder)\n",
    "                                    time_str = from_gps(timestamp).strftime(\"%H:%M\")\n",
    "                                    # Add link with formatted time\n",
    "                                    \n",
    "                                    # Find files inside the time folder\n",
    "                                    files = os.listdir(time_folder_full_path)\n",
    "                                    #print(files)\n",
    "                                    if files:\n",
    "                                        file_full_path = files[0]\n",
    "                                        time_folders_html += f'<a href=\"{folder_name}/{time_folder}/{file_full_path}\" class=\"link\">{time_str}</a>'\n",
    "                \n",
    "                        # Add clickable link with hidden time folders\n",
    "                        html_content += f\"\"\"\n",
    "                            <td>\n",
    "                                <div>\n",
    "                                    <a class=\"link\" onclick=\"toggleVisibility('{folder_name}')\">{day}</a>\n",
    "                                </div>\n",
    "                                <div id=\"{folder_name}\" class=\"time-links\">\n",
    "                                    {time_folders_html}\n",
    "                                </div>\n",
    "                            </td>\n",
    "                        \"\"\"\n",
    "                    else:\n",
    "                        # Show the day without a link if the folder doesn't exist\n",
    "                        html_content += f'<td>{day}</td>'\n",
    "            html_content += \"</tr>\"\n",
    "\n",
    "        # Close the month container\n",
    "        html_content += \"\"\"\n",
    "                </tbody>\n",
    "            </table>\n",
    "        </div>\n",
    "        \"\"\"\n",
    "\n",
    "    # End HTML content\n",
    "    html_content += \"\"\"\n",
    "        </div>\n",
    "    </body>\n",
    "    </html>\n",
    "    \"\"\"\n",
    "\n",
    "    # Save to file\n",
    "    output_path = os.path.join(base_dir, f\"calendar_{year}.html\")\n",
    "    with open(output_path, \"w\") as file:\n",
    "        file.write(html_content)\n",
    "\n",
    "    print(f\"Calendar HTML file created: {output_path}\")\n",
    "    \n",
    "    return\n",
    "\n"
   ]
  },
  {
   "cell_type": "code",
   "execution_count": 26,
   "id": "964bfb15-424d-43a5-94cb-5bc325e7bf92",
   "metadata": {},
   "outputs": [
    {
     "name": "stdout",
     "output_type": "stream",
     "text": [
      "Calendar HTML file created: /home/siddharth.soni/public_html/coherence_monitor/plots/L1/calendar_2024.html\n"
     ]
    }
   ],
   "source": [
    "# Generate the calendar\n",
    "# Base directory containing your folders\n",
    "base_dir = \"/home/siddharth.soni/public_html/coherence_monitor/plots/\" \n",
    "\n",
    "# Extract year and month ranges dynamically or define them manually\n",
    "year = 2024\n",
    "months = [11, 12]  # For November and December\n",
    "generate_calendar_with_links(base_dir, year, months, ifo='L1')\n"
   ]
  },
  {
   "cell_type": "code",
   "execution_count": 39,
   "id": "580de899-99b5-46ff-846e-6551c6f97209",
   "metadata": {},
   "outputs": [
    {
     "name": "stdout",
     "output_type": "stream",
     "text": [
      "Calendar HTML file created: /home/siddharth.soni/public_html/coherence_monitor/plots/L1/calendar_2025.html\n"
     ]
    }
   ],
   "source": [
    "# Generate the calendar\n",
    "# Base directory containing your folders\n",
    "base_dir = \"/home/siddharth.soni/public_html/coherence_monitor/plots/\" \n",
    "\n",
    "# Extract year and month ranges dynamically or define them manually\n",
    "year = 2025\n",
    "months = [1]  # For January\n",
    "generate_calendar_with_links(base_dir, year, months, ifo='L1')\n"
   ]
  },
  {
   "cell_type": "code",
   "execution_count": 27,
   "id": "9a784b74-824c-4720-9623-b1d39e981374",
   "metadata": {},
   "outputs": [
    {
     "name": "stdout",
     "output_type": "stream",
     "text": [
      "Calendar HTML file created: /home/siddharth.soni/public_html/coherence_monitor/plots/H1/calendar_2024.html\n"
     ]
    }
   ],
   "source": [
    "# Generate the calendar\n",
    "# Base directory containing your folders\n",
    "base_dir = \"/home/siddharth.soni/public_html/coherence_monitor/plots/\" \n",
    "\n",
    "# Extract year and month ranges dynamically or define them manually\n",
    "year = 2024\n",
    "months = [11, 12]  # For November and December\n",
    "generate_calendar_with_links(base_dir, year, months, ifo='H1')"
   ]
  },
  {
   "cell_type": "code",
   "execution_count": 34,
   "id": "1c8757eb-9487-41b3-aa84-41366cef3e9e",
   "metadata": {},
   "outputs": [
    {
     "name": "stdout",
     "output_type": "stream",
     "text": [
      "Calendar HTML file created: /home/siddharth.soni/public_html/coherence_monitor/plots/H1/calendar_2025.html\n"
     ]
    }
   ],
   "source": [
    "# Generate the calendar\n",
    "# Base directory containing your folders\n",
    "base_dir = \"/home/siddharth.soni/public_html/coherence_monitor/plots/\" \n",
    "\n",
    "# Extract year and month ranges dynamically or define them manually\n",
    "year = 2025\n",
    "months = [1]  # For January\n",
    "generate_calendar_with_links(base_dir, year, months, ifo='H1')\n"
   ]
  },
  {
   "cell_type": "code",
   "execution_count": 180,
   "id": "1925d35d-9600-4b3d-aafc-23ea2cd7a37b",
   "metadata": {},
   "outputs": [],
   "source": [
    "# import os\n",
    "# import shutil\n",
    "\n",
    "# # Base directory containing your main folders\n",
    "# base_dir = \"/home/siddharth.soni/public_html/date_folders/L1/\"  # Replace with your actual path\n",
    "\n",
    "# def cleanup_folders(base_dir):\n",
    "#     # Walk through all folders in the base directory\n",
    "#     for root, dirs, files in os.walk(base_dir, topdown=False):\n",
    "#         # Delete the 'data' folder if it exists\n",
    "#         if 'data' in dirs:\n",
    "#             data_path = os.path.join(root, 'data')\n",
    "#             try:\n",
    "#                 shutil.rmtree(data_path)\n",
    "#                 print(f\"Deleted folder: {data_path}\")\n",
    "#             except Exception as e:\n",
    "#                 print(f\"Error deleting folder {data_path}: {e}\")\n",
    "        \n",
    "#         # Delete the 'log.log' file if it exists\n",
    "#         if 'log.log' in files:\n",
    "#             log_file_path = os.path.join(root, 'log.log')\n",
    "#             try:\n",
    "#                 os.remove(log_file_path)\n",
    "#                 print(f\"Deleted file: {log_file_path}\")\n",
    "#             except Exception as e:\n",
    "#                 print(f\"Error deleting file {log_file_path}: {e}\")\n",
    "\n",
    "#     print(\"Cleanup completed.\")\n",
    "\n",
    "# # Run the cleanup\n",
    "# cleanup_folders(base_dir)\n"
   ]
  },
  {
   "cell_type": "code",
   "execution_count": 182,
   "id": "ddd53e88-4e66-4a86-8a70-06d41bbdadc0",
   "metadata": {},
   "outputs": [],
   "source": [
    "# import os\n",
    "# import shutil\n",
    "\n",
    "# # Base directory containing your main folders\n",
    "# base_dir = \"/home/siddharth.soni/public_html/date_folders/L1/\"   # Replace with your actual path\n",
    "\n",
    "# def move_plots_contents(base_dir):\n",
    "#     # Walk through all folders in the base directory\n",
    "#     for root, dirs, _ in os.walk(base_dir, topdown=False):  # Traverse bottom-up\n",
    "#         if 'plots' in dirs:\n",
    "#             plots_path = os.path.join(root, 'plots')  # Path to the plots folder\n",
    "#             parent_path = root  # Parent directory of the plots folder\n",
    "\n",
    "#             try:\n",
    "#                 # Move all contents of 'plots' to the parent directory\n",
    "#                 for item in os.listdir(plots_path):\n",
    "#                     source = os.path.join(plots_path, item)\n",
    "#                     destination = os.path.join(parent_path, item)\n",
    "\n",
    "#                     # Move file or folder\n",
    "#                     if os.path.isdir(source):\n",
    "#                         shutil.move(source, destination)\n",
    "#                     else:\n",
    "#                         shutil.move(source, destination)\n",
    "#                 print(f\"Moved contents of {plots_path} to {parent_path}\")\n",
    "\n",
    "#                 # Remove the now-empty 'plots' folder\n",
    "#                 os.rmdir(plots_path)\n",
    "#                 print(f\"Deleted empty folder: {plots_path}\")\n",
    "#             except Exception as e:\n",
    "#                 print(f\"Error handling folder {plots_path}: {e}\")\n",
    "\n",
    "#     print(\"Move operation completed.\")\n",
    "\n",
    "# # Run the script\n",
    "# move_plots_contents(base_dir)\n"
   ]
  },
  {
   "cell_type": "code",
   "execution_count": 191,
   "id": "1124799b-66f0-4ab0-8200-2b9314b05e76",
   "metadata": {},
   "outputs": [
    {
     "data": {
      "text/plain": [
       "'/home/siddharth.soni/public_html/date_folders/L1/2024-12-02/'"
      ]
     },
     "execution_count": 191,
     "metadata": {},
     "output_type": "execute_result"
    }
   ],
   "source": [
    "shutil.copytree('/home/siddharth.soni/public_html/coherence_monitor/L1/2024-12-02/plots/', \n",
    "               '/home/siddharth.soni/public_html/date_folders/L1/2024-12-02/')"
   ]
  },
  {
   "cell_type": "code",
   "execution_count": null,
   "id": "650396cd-cbd9-4c14-89e9-e76cabf6eeca",
   "metadata": {},
   "outputs": [],
   "source": []
  },
  {
   "cell_type": "code",
   "execution_count": 206,
   "id": "f6c91adb-5418-4767-bab6-0568a6d99876",
   "metadata": {},
   "outputs": [],
   "source": [
    "# for i in sorted(os.listdir('/home/siddharth.soni/public_html/coherence_monitor/L1/'))[58:-1]:\n",
    "    \n",
    "#     try:\n",
    "#         shutil.copytree(f'/home/siddharth.soni/public_html/coherence_monitor/L1/{i}/plots/', \n",
    "#                f'/home/siddharth.soni/public_html/date_folders/L1/{i}/')\n",
    "#     except (FileNotFoundError, FileExistsError) as e:\n",
    "#         pass\n",
    "    "
   ]
  },
  {
   "cell_type": "code",
   "execution_count": 208,
   "id": "0fff0d88-0509-4c57-b55d-9ce986e5bcfd",
   "metadata": {},
   "outputs": [
    {
     "data": {
      "text/plain": [
       "datetime.datetime(2024, 12, 12, 14, 46, 6)"
      ]
     },
     "execution_count": 208,
     "metadata": {},
     "output_type": "execute_result"
    }
   ],
   "source": [
    "from_gps(1418049984)"
   ]
  },
  {
   "cell_type": "code",
   "execution_count": 75,
   "id": "3dc72e2c-a15a-440a-b67d-598821a71397",
   "metadata": {},
   "outputs": [],
   "source": [
    "import shutil\n",
    "for folder in sorted(os.listdir('/home/siddharth.soni/public_html/coherence_monitor/L1/'))[26:-1]:\n",
    "    #print(folder)\n",
    "    try:\n",
    "        path = os.path.join('/home/siddharth.soni/public_html/coherence_monitor/L1/', folder, 'plots', '')\n",
    "        os.makedirs(f'/home/siddharth.soni/public_html/coherence_monitor/plots/L1/{folder}')\n",
    "        shutil.copytree(path,f'/home/siddharth.soni/public_html/coherence_monitor/plots/L1/{folder}', dirs_exist_ok=True)\n",
    "    except FileNotFoundError:\n",
    "        pass\n",
    "    #print(path)\n",
    "    "
   ]
  },
  {
   "cell_type": "code",
   "execution_count": 80,
   "id": "96d95370-5c18-460e-83ed-2b343578bb63",
   "metadata": {},
   "outputs": [],
   "source": [
    "import shutil\n",
    "for folder in sorted(os.listdir('/home/siddharth.soni/public_html/coherence_monitor/H1/'))[40:-1]:\n",
    "    #print(folder)\n",
    "    try:\n",
    "        path = os.path.join('/home/siddharth.soni/public_html/coherence_monitor/H1/', folder, 'plots', '')\n",
    "        os.makedirs(f'/home/siddharth.soni/public_html/coherence_monitor/plots/H1/{folder}')\n",
    "        shutil.copytree(path,f'/home/siddharth.soni/public_html/coherence_monitor/plots/H1/{folder}', dirs_exist_ok=True)\n",
    "    except FileNotFoundError:\n",
    "        pass\n",
    "    #print(path)\n",
    "    "
   ]
  },
  {
   "cell_type": "code",
   "execution_count": 100,
   "id": "3f27d4d7-16dc-4875-9b32-012abf0751c5",
   "metadata": {},
   "outputs": [],
   "source": [
    "from gwpy.time import tconvert, from_gps, to_gps\n",
    "from datetime import datetime, timedelta\n",
    "\n",
    "now  = from_gps(tconvert(gpsordate='now'))\n",
    "\n",
    "\n",
    "date = now.strftime('%Y-%m-%d')\n",
    "#date = '2024-12-04'\n",
    "\n",
    "date_ = datetime.strptime(date, '%Y-%m-%d')\n"
   ]
  },
  {
   "cell_type": "code",
   "execution_count": 103,
   "id": "06a2cb49-42e4-4c13-a56e-195f58dcdc88",
   "metadata": {},
   "outputs": [
    {
     "data": {
      "text/plain": [
       "'2024-12-18'"
      ]
     },
     "execution_count": 103,
     "metadata": {},
     "output_type": "execute_result"
    }
   ],
   "source": [
    "date"
   ]
  },
  {
   "cell_type": "code",
   "execution_count": 17,
   "id": "a7ee5ab9-092d-4fad-a730-8ea326a0766a",
   "metadata": {},
   "outputs": [
    {
     "data": {
      "text/html": [
       "<div>\n",
       "<style scoped>\n",
       "    .dataframe tbody tr th:only-of-type {\n",
       "        vertical-align: middle;\n",
       "    }\n",
       "\n",
       "    .dataframe tbody tr th {\n",
       "        vertical-align: top;\n",
       "    }\n",
       "\n",
       "    .dataframe thead th {\n",
       "        text-align: right;\n",
       "    }\n",
       "</style>\n",
       "<table border=\"1\" class=\"dataframe\">\n",
       "  <thead>\n",
       "    <tr style=\"text-align: right;\">\n",
       "      <th></th>\n",
       "      <th>freq</th>\n",
       "      <th>value</th>\n",
       "      <th>channel</th>\n",
       "    </tr>\n",
       "  </thead>\n",
       "  <tbody>\n",
       "    <tr>\n",
       "      <th>0</th>\n",
       "      <td>59.9</td>\n",
       "      <td>0.43</td>\n",
       "      <td>L1:SUS-FC1_M3_WIT_Y_DQ</td>\n",
       "    </tr>\n",
       "    <tr>\n",
       "      <th>1</th>\n",
       "      <td>60.0</td>\n",
       "      <td>0.71</td>\n",
       "      <td>L1:SUS-FC1_M3_WIT_Y_DQ</td>\n",
       "    </tr>\n",
       "    <tr>\n",
       "      <th>2</th>\n",
       "      <td>60.1</td>\n",
       "      <td>0.42</td>\n",
       "      <td>L1:SUS-FC1_M3_WIT_Y_DQ</td>\n",
       "    </tr>\n",
       "    <tr>\n",
       "      <th>3</th>\n",
       "      <td>59.9</td>\n",
       "      <td>0.88</td>\n",
       "      <td>L1:PEM-CS_ACC_ISCT1_REFL_Y_DQ</td>\n",
       "    </tr>\n",
       "    <tr>\n",
       "      <th>4</th>\n",
       "      <td>60.0</td>\n",
       "      <td>0.93</td>\n",
       "      <td>L1:PEM-CS_ACC_ISCT1_REFL_Y_DQ</td>\n",
       "    </tr>\n",
       "    <tr>\n",
       "      <th>...</th>\n",
       "      <td>...</td>\n",
       "      <td>...</td>\n",
       "      <td>...</td>\n",
       "    </tr>\n",
       "    <tr>\n",
       "      <th>31516</th>\n",
       "      <td>300.0</td>\n",
       "      <td>0.29</td>\n",
       "      <td>L1:PEM-EY_ACC_BEAMTUBE_MAN_Y_DQ</td>\n",
       "    </tr>\n",
       "    <tr>\n",
       "      <th>31517</th>\n",
       "      <td>300.1</td>\n",
       "      <td>0.19</td>\n",
       "      <td>L1:PEM-EY_ACC_BEAMTUBE_MAN_Y_DQ</td>\n",
       "    </tr>\n",
       "    <tr>\n",
       "      <th>31518</th>\n",
       "      <td>359.9</td>\n",
       "      <td>0.17</td>\n",
       "      <td>L1:PEM-EY_ACC_BEAMTUBE_MAN_Y_DQ</td>\n",
       "    </tr>\n",
       "    <tr>\n",
       "      <th>31519</th>\n",
       "      <td>360.0</td>\n",
       "      <td>0.25</td>\n",
       "      <td>L1:PEM-EY_ACC_BEAMTUBE_MAN_Y_DQ</td>\n",
       "    </tr>\n",
       "    <tr>\n",
       "      <th>31520</th>\n",
       "      <td>360.1</td>\n",
       "      <td>0.14</td>\n",
       "      <td>L1:PEM-EY_ACC_BEAMTUBE_MAN_Y_DQ</td>\n",
       "    </tr>\n",
       "  </tbody>\n",
       "</table>\n",
       "<p>31521 rows × 3 columns</p>\n",
       "</div>"
      ],
      "text/plain": [
       "        freq  value                          channel\n",
       "0       59.9   0.43           L1:SUS-FC1_M3_WIT_Y_DQ\n",
       "1       60.0   0.71           L1:SUS-FC1_M3_WIT_Y_DQ\n",
       "2       60.1   0.42           L1:SUS-FC1_M3_WIT_Y_DQ\n",
       "3       59.9   0.88    L1:PEM-CS_ACC_ISCT1_REFL_Y_DQ\n",
       "4       60.0   0.93    L1:PEM-CS_ACC_ISCT1_REFL_Y_DQ\n",
       "...      ...    ...                              ...\n",
       "31516  300.0   0.29  L1:PEM-EY_ACC_BEAMTUBE_MAN_Y_DQ\n",
       "31517  300.1   0.19  L1:PEM-EY_ACC_BEAMTUBE_MAN_Y_DQ\n",
       "31518  359.9   0.17  L1:PEM-EY_ACC_BEAMTUBE_MAN_Y_DQ\n",
       "31519  360.0   0.25  L1:PEM-EY_ACC_BEAMTUBE_MAN_Y_DQ\n",
       "31520  360.1   0.14  L1:PEM-EY_ACC_BEAMTUBE_MAN_Y_DQ\n",
       "\n",
       "[31521 rows x 3 columns]"
      ]
     },
     "execution_count": 17,
     "metadata": {},
     "output_type": "execute_result"
    }
   ],
   "source": [
    "combine_data_files('/home/siddharth.soni/public_html/coherence_monitor/L1/2025-01-02/data/1419811518/')"
   ]
  },
  {
   "cell_type": "code",
   "execution_count": 18,
   "id": "7cff12ed-1c81-4903-ace0-bc0022cdad62",
   "metadata": {},
   "outputs": [
    {
     "data": {
      "text/plain": [
       "datetime.datetime(2025, 1, 2, 3, 50, 47)"
      ]
     },
     "execution_count": 18,
     "metadata": {},
     "output_type": "execute_result"
    }
   ],
   "source": [
    "from_gps(1419825065.0)"
   ]
  },
  {
   "cell_type": "code",
   "execution_count": 19,
   "id": "e73b6046-4a2b-419d-8e80-3544a51d1444",
   "metadata": {},
   "outputs": [],
   "source": [
    "dfsafe = pd.read_csv('/home/siddharth.soni/src/coherence-monitor/channel_files/L1/L1_safe_channels.csv')"
   ]
  },
  {
   "cell_type": "code",
   "execution_count": 20,
   "id": "15e20b0c-336c-464c-b747-203f24008287",
   "metadata": {},
   "outputs": [
    {
     "data": {
      "text/html": [
       "<div>\n",
       "<style scoped>\n",
       "    .dataframe tbody tr th:only-of-type {\n",
       "        vertical-align: middle;\n",
       "    }\n",
       "\n",
       "    .dataframe tbody tr th {\n",
       "        vertical-align: top;\n",
       "    }\n",
       "\n",
       "    .dataframe thead th {\n",
       "        text-align: right;\n",
       "    }\n",
       "</style>\n",
       "<table border=\"1\" class=\"dataframe\">\n",
       "  <thead>\n",
       "    <tr style=\"text-align: right;\">\n",
       "      <th></th>\n",
       "      <th>channel</th>\n",
       "    </tr>\n",
       "  </thead>\n",
       "  <tbody>\n",
       "    <tr>\n",
       "      <th>0</th>\n",
       "      <td>L1:LSC-MCL_IN1_DQ</td>\n",
       "    </tr>\n",
       "    <tr>\n",
       "      <th>1</th>\n",
       "      <td>L1:LSC-MCL_OUT_DQ</td>\n",
       "    </tr>\n",
       "    <tr>\n",
       "      <th>2</th>\n",
       "      <td>L1:LSC-MICH_IN1_DQ</td>\n",
       "    </tr>\n",
       "    <tr>\n",
       "      <th>3</th>\n",
       "      <td>L1:LSC-MICH_OUT_DQ</td>\n",
       "    </tr>\n",
       "    <tr>\n",
       "      <th>4</th>\n",
       "      <td>L1:LSC-POPAIR_B_RF18_I_ERR_DQ</td>\n",
       "    </tr>\n",
       "    <tr>\n",
       "      <th>...</th>\n",
       "      <td>...</td>\n",
       "    </tr>\n",
       "    <tr>\n",
       "      <th>852</th>\n",
       "      <td>L1:SQZ-SHG_TRANS_RF24_Q_NORM_DQ</td>\n",
       "    </tr>\n",
       "    <tr>\n",
       "      <th>853</th>\n",
       "      <td>L1:SQZ-ASC_ANG_P_OUT_DQ</td>\n",
       "    </tr>\n",
       "    <tr>\n",
       "      <th>854</th>\n",
       "      <td>L1:SQZ-ASC_ANG_Y_OUT_DQ</td>\n",
       "    </tr>\n",
       "    <tr>\n",
       "      <th>855</th>\n",
       "      <td>L1:SQZ-ASC_POS_P_OUT_DQ</td>\n",
       "    </tr>\n",
       "    <tr>\n",
       "      <th>856</th>\n",
       "      <td>L1:SQZ-ASC_POS_Y_OUT_DQ</td>\n",
       "    </tr>\n",
       "  </tbody>\n",
       "</table>\n",
       "<p>857 rows × 1 columns</p>\n",
       "</div>"
      ],
      "text/plain": [
       "                             channel\n",
       "0                  L1:LSC-MCL_IN1_DQ\n",
       "1                  L1:LSC-MCL_OUT_DQ\n",
       "2                 L1:LSC-MICH_IN1_DQ\n",
       "3                 L1:LSC-MICH_OUT_DQ\n",
       "4      L1:LSC-POPAIR_B_RF18_I_ERR_DQ\n",
       "..                               ...\n",
       "852  L1:SQZ-SHG_TRANS_RF24_Q_NORM_DQ\n",
       "853          L1:SQZ-ASC_ANG_P_OUT_DQ\n",
       "854          L1:SQZ-ASC_ANG_Y_OUT_DQ\n",
       "855          L1:SQZ-ASC_POS_P_OUT_DQ\n",
       "856          L1:SQZ-ASC_POS_Y_OUT_DQ\n",
       "\n",
       "[857 rows x 1 columns]"
      ]
     },
     "execution_count": 20,
     "metadata": {},
     "output_type": "execute_result"
    }
   ],
   "source": [
    "dfsafe"
   ]
  },
  {
   "cell_type": "code",
   "execution_count": 21,
   "id": "f01c4850-3b41-409c-abe8-a71de46682e8",
   "metadata": {},
   "outputs": [
    {
     "data": {
      "text/plain": [
       "[0, 60, 120, 180, 240, 300, 360, 420, 480, 540, 600, 660, 720, 780, 840]"
      ]
     },
     "execution_count": 21,
     "metadata": {},
     "output_type": "execute_result"
    }
   ],
   "source": [
    "[i for i in range(0, 900, 60)]"
   ]
  },
  {
   "cell_type": "code",
   "execution_count": 64,
   "id": "aefbd550-f63a-4edd-900e-64c53629e77a",
   "metadata": {},
   "outputs": [],
   "source": [
    "import os\n",
    "import calendar\n",
    "from datetime import datetime\n",
    "from gwpy.time import to_gps, from_gps\n",
    "\n",
    "def generate_calendar_with_links_for_years(base_dir, year_dict, ifo):\n",
    "    base_dir = os.path.join(base_dir, ifo, '')\n",
    "    title = 'CohMon Plots'\n",
    "\n",
    "    if ifo == 'L1':\n",
    "        date_color = 'dodgerblue'\n",
    "        link_color = 'cornflowerblue'\n",
    "    else:\n",
    "        date_color = 'tomato'\n",
    "        link_color = 'salmon'\n",
    "\n",
    "    # Start HTML content\n",
    "    html_content = f\"\"\"\n",
    "    <!DOCTYPE html>\n",
    "    <html>\n",
    "    <head>\n",
    "        <title>Calendar</title>\n",
    "        <style>\n",
    "            body {{\n",
    "                font-family: Arial, sans-serif;\n",
    "                margin: 20px;\n",
    "            }}\n",
    "            .calendar {{\n",
    "                display: grid;\n",
    "                grid-template-columns: repeat(2, 1fr);\n",
    "                gap: 20px;\n",
    "            }}\n",
    "            .month {{\n",
    "                border: 1px solid #ccc;\n",
    "                border-radius: 8px;\n",
    "                padding: 10px;\n",
    "                box-shadow: 2px 2px 8px rgba(0,0,0,0.1);\n",
    "            }}\n",
    "            table {{\n",
    "                width: 100%;\n",
    "                border-collapse: collapse;\n",
    "                text-align: center;\n",
    "            }}\n",
    "            th, td {{\n",
    "                border: 1px solid #ddd;\n",
    "                padding: 8px;\n",
    "            }}\n",
    "            th {{\n",
    "                background-color: #f4f4f4;\n",
    "            }}\n",
    "            td {{\n",
    "                height: 50px;\n",
    "                vertical-align: top;\n",
    "                position: relative;\n",
    "            }}\n",
    "            .day {{\n",
    "                font-weight: bold;\n",
    "            }}\n",
    "            .link {{\n",
    "                text-decoration: none;\n",
    "                color: {date_color};\n",
    "                cursor: pointer;\n",
    "            }}\n",
    "            .link:hover {{\n",
    "                text-decoration: underline;\n",
    "            }}\n",
    "            .time-links {{\n",
    "                display: none;\n",
    "                position: absolute;\n",
    "                top: 50px;\n",
    "                left: 0;\n",
    "                background-color: white;\n",
    "                border: 1px solid #ddd;\n",
    "                padding: 10px;\n",
    "                z-index: 10;\n",
    "                box-shadow: 0 4px 6px rgba(0, 0, 0, 0.1);\n",
    "            }}\n",
    "            .time-links a {{\n",
    "                display: block;\n",
    "                color: {link_color};\n",
    "                margin-bottom: 5px;\n",
    "            }}\n",
    "            .time-links a:hover {{\n",
    "                text-decoration: underline;\n",
    "            }}\n",
    "        </style>\n",
    "        <script>\n",
    "            function toggleVisibility(dateId) {{\n",
    "                const timeLinks = document.querySelectorAll('.time-links');\n",
    "                timeLinks.forEach(link => {{\n",
    "                    if (link.id !== dateId) {{\n",
    "                        link.style.display = \"none\";\n",
    "                    }}\n",
    "                }});\n",
    "                const element = document.getElementById(dateId);\n",
    "                if (element.style.display === \"none\" || element.style.display === \"\") {{\n",
    "                    element.style.display = \"block\";\n",
    "                }} else {{\n",
    "                    element.style.display = \"none\";\n",
    "                }}\n",
    "            }}\n",
    "        </script>\n",
    "    </head>\n",
    "    <body>\n",
    "        <h1>{ifo} {title}</h1>\n",
    "        <div class=\"calendar\">\n",
    "    \"\"\"\n",
    "    #year_dict = {'2024':[11, 12], '2025':[1]}\n",
    "    # Generate calendar content for each year\n",
    "    for year_ in year_dict.keys():\n",
    "        year = int(year_)\n",
    "        html_content += f\"<h2>Year: {year}</h2>\"\n",
    "        existing_folders = set(os.listdir(base_dir))\n",
    "        \n",
    "        for month in year_dict[str(year)]:\n",
    "            #year = int(year_)\n",
    "            print(year, month)\n",
    "            print(type(year), type(month))\n",
    "            month_name = calendar.month_name[month]\n",
    "            _, num_days = calendar.monthrange(year, month)\n",
    "\n",
    "            # Start a month container\n",
    "            html_content += f\"\"\"\n",
    "            <div class=\"month\">\n",
    "                <h2>{month_name}</h2>\n",
    "                <table>\n",
    "                    <thead>\n",
    "                        <tr>\n",
    "                            <th>Sun</th>\n",
    "                            <th>Mon</th>\n",
    "                            <th>Tue</th>\n",
    "                            <th>Wed</th>\n",
    "                            <th>Thu</th>\n",
    "                            <th>Fri</th>\n",
    "                            <th>Sat</th>\n",
    "                        </tr>\n",
    "                    </thead>\n",
    "                    <tbody>\n",
    "            \"\"\"\n",
    "\n",
    "            # Generate days in calendar format\n",
    "            cal = calendar.Calendar()\n",
    "            month_days = cal.monthdayscalendar(year, month)\n",
    "            for week in month_days:\n",
    "                html_content += \"<tr>\"\n",
    "                for day in week:\n",
    "                    if day == 0:\n",
    "                        html_content += \"<td></td>\"\n",
    "                    else:\n",
    "                        folder_name = f\"{year}-{month:02d}-{day:02d}\"\n",
    "                        if folder_name in existing_folders:\n",
    "                            time_folders_html = \"\"\n",
    "                            time_folder_path = os.path.join(base_dir, folder_name)\n",
    "                            if os.path.isdir(time_folder_path):\n",
    "                                for time_folder in sorted(os.listdir(time_folder_path)):\n",
    "                                    time_folder_full_path = os.path.join(\n",
    "                                        time_folder_path, time_folder\n",
    "                                    )\n",
    "                                    if os.path.isdir(time_folder_full_path) and time_folder.isdigit():\n",
    "                                        timestamp = int(time_folder)\n",
    "                                        time_str = from_gps(timestamp).strftime(\"%H:%M\")\n",
    "                                        files = os.listdir(time_folder_full_path)\n",
    "                                        if files:\n",
    "                                            file_full_path = files[0]\n",
    "                                            time_folders_html += f'<a href=\"{folder_name}/{time_folder}/{file_full_path}\" class=\"link\">{time_str}</a>'\n",
    "\n",
    "                            html_content += f\"\"\"\n",
    "                                <td>\n",
    "                                    <div>\n",
    "                                        <a class=\"link\" onclick=\"toggleVisibility('{folder_name}')\">{day}</a>\n",
    "                                    </div>\n",
    "                                    <div id=\"{folder_name}\" class=\"time-links\">\n",
    "                                        {time_folders_html}\n",
    "                                    </div>\n",
    "                                </td>\n",
    "                            \"\"\"\n",
    "                        else:\n",
    "                            html_content += f\"<td>{day}</td>\"\n",
    "                html_content += \"</tr>\"\n",
    "\n",
    "            # Close the month container\n",
    "            html_content += \"\"\"\n",
    "                    </tbody>\n",
    "                </table>\n",
    "            </div>\n",
    "            \"\"\"\n",
    "\n",
    "        # End HTML content\n",
    "        html_content += \"\"\"\n",
    "            </div>\n",
    "        </body>\n",
    "        </html>\n",
    "        \"\"\"\n",
    "\n",
    "    # Save to file\n",
    "    output_path = os.path.join(base_dir, \"calendar_combined.html\")\n",
    "    with open(output_path, \"w\") as file:\n",
    "        file.write(html_content)\n",
    "\n",
    "    print(f\"Combined calendar HTML file created: {output_path}\")\n",
    "    \n",
    "    return\n"
   ]
  },
  {
   "cell_type": "code",
   "execution_count": 72,
   "id": "c38fb632-75f1-4a03-84cb-8f4f5c79577c",
   "metadata": {},
   "outputs": [
    {
     "name": "stdout",
     "output_type": "stream",
     "text": [
      "2024 11\n",
      "<class 'int'> <class 'int'>\n",
      "2024 12\n",
      "<class 'int'> <class 'int'>\n",
      "2025 1\n",
      "<class 'int'> <class 'int'>\n",
      "2025 2\n",
      "<class 'int'> <class 'int'>\n",
      "Combined calendar HTML file created: /home/siddharth.soni/public_html/coherence_monitor/plots/L1/calendar_combined.html\n"
     ]
    }
   ],
   "source": [
    "# Generate the calendar\n",
    "# Base directory containing your folders\n",
    "base_dir = \"/home/siddharth.soni/public_html/coherence_monitor/plots/\" \n",
    "\n",
    "# Extract year and month ranges dynamically or define them manually\n",
    "# years_ = [2024,2025]\n",
    "# months = [11,12,1]  # For January\n",
    "year_dict_ = {'2024':[11, 12], '2025':[1,2]}\n",
    "generate_calendar_with_links_for_years(base_dir, year_dict=year_dict_, ifo='L1')\n"
   ]
  },
  {
   "cell_type": "code",
   "execution_count": 73,
   "id": "2f8b9421-028c-49b1-b828-431019b28082",
   "metadata": {},
   "outputs": [
    {
     "name": "stdout",
     "output_type": "stream",
     "text": [
      "2024 11\n",
      "<class 'int'> <class 'int'>\n",
      "2024 12\n",
      "<class 'int'> <class 'int'>\n",
      "2025 1\n",
      "<class 'int'> <class 'int'>\n",
      "2025 2\n",
      "<class 'int'> <class 'int'>\n",
      "Combined calendar HTML file created: /home/siddharth.soni/public_html/coherence_monitor/plots/H1/calendar_combined.html\n"
     ]
    }
   ],
   "source": [
    "# Generate the calendar\n",
    "# Base directory containing your folders\n",
    "base_dir = \"/home/siddharth.soni/public_html/coherence_monitor/plots/\" \n",
    "\n",
    "# Extract year and month ranges dynamically or define them manually\n",
    "# years_ = [2024,2025]\n",
    "# months = [11,12,1]  # For January\n",
    "year_dict_ = {'2024':[11, 12], '2025':[1,2]}\n",
    "generate_calendar_with_links_for_years(base_dir, year_dict=year_dict_, ifo='H1')\n"
   ]
  },
  {
   "cell_type": "code",
   "execution_count": 41,
   "id": "dbeae976-fe38-4a89-b7c7-afc1d49bdb76",
   "metadata": {},
   "outputs": [],
   "source": [
    "year_dict_ = {'2024':[11, 12], '2025':[1]}"
   ]
  },
  {
   "cell_type": "code",
   "execution_count": 43,
   "id": "87931140-b632-487b-93c1-c6ea6c718501",
   "metadata": {},
   "outputs": [
    {
     "name": "stdout",
     "output_type": "stream",
     "text": [
      "2024\n",
      "[11, 12]\n",
      "2025\n",
      "[1]\n"
     ]
    }
   ],
   "source": [
    "for year in year_dict_.keys():\n",
    "    print(year)\n",
    "    print(year_dict_[year])"
   ]
  },
  {
   "cell_type": "code",
   "execution_count": null,
   "id": "644caeea-e816-478d-ae05-3f649b06a130",
   "metadata": {},
   "outputs": [],
   "source": []
  }
 ],
 "metadata": {
  "kernelspec": {
   "display_name": "igwn-py39",
   "language": "python",
   "name": "igwn-py39"
  },
  "language_info": {
   "codemirror_mode": {
    "name": "ipython",
    "version": 3
   },
   "file_extension": ".py",
   "mimetype": "text/x-python",
   "name": "python",
   "nbconvert_exporter": "python",
   "pygments_lexer": "ipython3",
   "version": "3.9.19"
  }
 },
 "nbformat": 4,
 "nbformat_minor": 5
}
